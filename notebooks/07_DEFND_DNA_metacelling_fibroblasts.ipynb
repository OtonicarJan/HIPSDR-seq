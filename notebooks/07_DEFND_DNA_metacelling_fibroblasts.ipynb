{
 "cells": [
  {
   "cell_type": "code",
   "execution_count": null,
   "metadata": {},
   "outputs": [],
   "source": [
    "import glob\n",
    "import sys\n",
    "\n",
    "import matplotlib.colors as mcolors\n",
    "import matplotlib.pyplot as plt\n",
    "import numpy as np\n",
    "import pandas as pd\n",
    "import scanpy as sc\n",
    "import seaborn as sns\n",
    "from sklearn.metrics import pairwise_distances\n",
    "from tqdm import tqdm\n",
    "\n",
    "sys.path.insert(1, \"../helper_functions\")\n",
    "from create_metacells import *\n",
    "from helper_functions import gini, lorenz, prepare_counts_df"
   ]
  },
  {
   "cell_type": "code",
   "execution_count": null,
   "metadata": {},
   "outputs": [],
   "source": [
    "all_count_files = glob.glob(\"../../DEFND-seq/readCount_filtered_bam/*100kb*.seg\")"
   ]
  },
  {
   "cell_type": "code",
   "execution_count": null,
   "metadata": {},
   "outputs": [],
   "source": [
    "len(all_count_files)"
   ]
  },
  {
   "cell_type": "code",
   "execution_count": null,
   "metadata": {},
   "outputs": [],
   "source": [
    "counts_df_orig, regions = prepare_counts_df(\n",
    "    all_count_files, binsize=100000, metacelling=True\n",
    ")"
   ]
  },
  {
   "cell_type": "code",
   "execution_count": null,
   "metadata": {},
   "outputs": [],
   "source": [
    "barcodes = pd.read_csv(\"../data/CNVs_DEFND_filtered.csv.gz\", index_col=0).index\n",
    "counts_df_orig = counts_df_orig.loc[barcodes].copy()"
   ]
  },
  {
   "cell_type": "code",
   "execution_count": null,
   "metadata": {},
   "outputs": [],
   "source": [
    "gini_matac = counts_df_orig.apply(lambda row: gini(row), axis=1).values\n",
    "lorenz_matac = counts_df_orig.apply(lambda row: lorenz(row), axis=1).values\n",
    "lorenz_matac_2d = np.array([np.array(x) for x in lorenz_matac])"
   ]
  },
  {
   "cell_type": "code",
   "execution_count": null,
   "metadata": {},
   "outputs": [],
   "source": [
    "median_lorenz = np.median(lorenz_matac_2d, axis=0)\n",
    "# Calculate the 95% confidence interval for each point\n",
    "lower_bound = np.percentile(lorenz_matac_2d, 2.5, axis=0)\n",
    "upper_bound = np.percentile(lorenz_matac_2d, 97.5, axis=0)\n",
    "\n",
    "# X-axis values - normalized to range from 0 to 1\n",
    "x_values = np.arange(len(median_lorenz)) / (len(median_lorenz) - 1)\n",
    "\n",
    "plt.plot(x_values, median_lorenz, label=\"Median Lorenz Curve\", lw=2, color=\"blue\")\n",
    "plt.plot(x_values, x_values, label=\"uniform\", ls=\"--\", color=\"grey\")\n",
    "\n",
    "plt.fill_between(\n",
    "    x_values,\n",
    "    lower_bound,\n",
    "    upper_bound,\n",
    "    color=\"lightblue\",\n",
    "    alpha=0.5,\n",
    "    label=\"95% Confidence Interval\",\n",
    ")\n",
    "\n",
    "plt.xlabel(\"Fraction of genome\")\n",
    "plt.ylabel(\"Cumulative Share of reads\")\n",
    "plt.legend()\n",
    "plt.grid(True)"
   ]
  },
  {
   "cell_type": "code",
   "execution_count": null,
   "metadata": {},
   "outputs": [],
   "source": [
    "plt.scatter(gini_matac, counts_df_orig.sum(axis=1))\n",
    "plt.xlabel(\"Gini\")\n",
    "plt.ylabel(\"Total counts\")"
   ]
  },
  {
   "cell_type": "code",
   "execution_count": null,
   "metadata": {},
   "outputs": [],
   "source": [
    "plt.hist(gini_matac, bins=20)\n",
    "plt.xlabel(\"Gini\")\n",
    "plt.ylabel(\"Count\")"
   ]
  },
  {
   "cell_type": "code",
   "execution_count": null,
   "metadata": {},
   "outputs": [],
   "source": [
    "counts = counts_df_orig.copy().values"
   ]
  },
  {
   "cell_type": "code",
   "execution_count": null,
   "metadata": {},
   "outputs": [],
   "source": [
    "new_step = 1000000\n",
    "i0 = 0\n",
    "chrom = \"chr1\"\n",
    "start0 = 1\n",
    "new_counts = []\n",
    "counts0 = np.zeros(counts_df_orig.shape[0])\n",
    "new_regions = []\n",
    "for i, rec in tqdm(enumerate(regions)):\n",
    "    if rec[0] == chrom and (rec[1] - start0 < new_step):\n",
    "        counts0 += counts[:, i]\n",
    "        region = f\"{rec[0]}:{start0}-{start0+new_step}\"\n",
    "    else:\n",
    "        new_counts.append(counts0)\n",
    "        new_regions.append(region)\n",
    "        start0 = rec[1]\n",
    "        counts0 = counts[:, i]\n",
    "        chrom = rec[0]\n",
    "        region = f\"{rec[0]}:{start0}-{start0+new_step}\""
   ]
  },
  {
   "cell_type": "code",
   "execution_count": null,
   "metadata": {},
   "outputs": [],
   "source": [
    "counts_df = pd.DataFrame(new_counts, index=new_regions, columns=counts_df_orig.index).T"
   ]
  },
  {
   "cell_type": "code",
   "execution_count": null,
   "metadata": {},
   "outputs": [],
   "source": [
    "counts_df.head()"
   ]
  },
  {
   "cell_type": "code",
   "execution_count": null,
   "metadata": {},
   "outputs": [],
   "source": [
    "adata = sc.AnnData(counts_df)"
   ]
  },
  {
   "cell_type": "code",
   "execution_count": null,
   "metadata": {},
   "outputs": [],
   "source": [
    "adata.raw = adata"
   ]
  },
  {
   "cell_type": "code",
   "execution_count": null,
   "metadata": {},
   "outputs": [],
   "source": [
    "sc.pp.calculate_qc_metrics(adata, percent_top=None, log1p=False, inplace=True)"
   ]
  },
  {
   "cell_type": "code",
   "execution_count": null,
   "metadata": {},
   "outputs": [],
   "source": [
    "sc.pl.violin(adata, [\"n_genes_by_counts\", \"total_counts\"], jitter=0.4, multi_panel=True)\n",
    "adata = adata[adata.obs.total_counts > 10000, :]\n",
    "sc.pp.normalize_total(adata)\n",
    "sc.pp.log1p(adata)"
   ]
  },
  {
   "cell_type": "code",
   "execution_count": null,
   "metadata": {},
   "outputs": [],
   "source": [
    "%%time\n",
    "num_comp = 500\n",
    "sc.tl.pca(adata, svd_solver=\"arpack\", n_comps=num_comp)\n",
    "print(np.cumsum(adata.uns[\"pca\"][\"variance_ratio\"])[-1])"
   ]
  },
  {
   "cell_type": "code",
   "execution_count": null,
   "metadata": {},
   "outputs": [],
   "source": [
    "sc.pl.pca(adata, color=\"total_counts\")"
   ]
  },
  {
   "cell_type": "code",
   "execution_count": null,
   "metadata": {},
   "outputs": [],
   "source": [
    "sc.pp.neighbors(adata, n_pcs=num_comp)"
   ]
  },
  {
   "cell_type": "code",
   "execution_count": null,
   "metadata": {},
   "outputs": [],
   "source": [
    "sc.tl.leiden(adata)\n",
    "sc.tl.paga(adata)\n",
    "sc.pl.paga(\n",
    "    adata, plot=False\n",
    ")  # remove `plot=False` if you want to see the coarse-grained graph\n",
    "sc.tl.umap(adata, init_pos=\"paga\")"
   ]
  },
  {
   "cell_type": "code",
   "execution_count": null,
   "metadata": {},
   "outputs": [],
   "source": [
    "adata.obs[\"coverage\"] = (adata.obs[\"total_counts\"] * 163) / 3099750718"
   ]
  },
  {
   "cell_type": "code",
   "execution_count": null,
   "metadata": {},
   "outputs": [],
   "source": [
    "sc.pl.umap(adata, color=\"coverage\", show=False, color_map=\"Greys\", vmax=\"p99\")"
   ]
  },
  {
   "cell_type": "code",
   "execution_count": null,
   "metadata": {},
   "outputs": [],
   "source": [
    "max_covergae = 1100\n",
    "min_coverage = 200"
   ]
  },
  {
   "cell_type": "code",
   "execution_count": null,
   "metadata": {},
   "outputs": [],
   "source": [
    "# set the resolution such that the maximum coverag is close to max_covergae\n",
    "# higher resolution =>  lower maximum coverage\n",
    "sc.tl.leiden(adata, resolution=190, key_added=\"leiden_small\")\n",
    "clust_df = []\n",
    "clusters = adata.obs.leiden_small.unique()\n",
    "for meta in clusters:\n",
    "    dat = adata.obs[adata.obs.leiden_small == meta]\n",
    "    subset = adata[dat.index]\n",
    "    clust_df.append(\n",
    "        [\n",
    "            meta,\n",
    "            counts_df.loc[dat.index].sum(axis=0).mean(),\n",
    "            subset.shape[0],\n",
    "            float(subset.obsm[\"X_umap\"][:, 0].mean()),\n",
    "            float(subset.obsm[\"X_umap\"][:, 1].mean()),\n",
    "            # float(subset.obsm['X_pca'][:,0].mean()),float(subset.obsm['X_pca'][:,1].mean()),\n",
    "            *subset.obsm[\"X_pca\"].mean(axis=0),\n",
    "        ]\n",
    "    )\n",
    "clust_df = pd.DataFrame(\n",
    "    clust_df,\n",
    "    columns=[\n",
    "        \"cl\",\n",
    "        \"coverage\",\n",
    "        \"n_cells\",\n",
    "        \"umap_x\",\n",
    "        \"umap_y\",\n",
    "        *[f\"PC_{i}\" for i in range(num_comp)],\n",
    "    ],\n",
    ")\n",
    "print(clust_df.coverage.min(), clust_df.coverage.max())"
   ]
  },
  {
   "cell_type": "code",
   "execution_count": null,
   "metadata": {},
   "outputs": [],
   "source": [
    "clust_df[\"pass_min\"] = clust_df.coverage >= min_coverage\n",
    "clust_df[\"pass_max\"] = clust_df.coverage <= max_covergae"
   ]
  },
  {
   "cell_type": "code",
   "execution_count": null,
   "metadata": {},
   "outputs": [],
   "source": [
    "clust_df[\"counts_per_1MB\"] = clust_df[\"coverage\"]"
   ]
  },
  {
   "cell_type": "code",
   "execution_count": null,
   "metadata": {},
   "outputs": [],
   "source": [
    "adata.obs[\"counts_per_1MB\"] = adata.obs[\"total_counts\"] / adata.var.shape[0]"
   ]
  },
  {
   "cell_type": "code",
   "execution_count": null,
   "metadata": {},
   "outputs": [],
   "source": [
    "sns.set(style=\"white\", font_scale=1)"
   ]
  },
  {
   "cell_type": "code",
   "execution_count": null,
   "metadata": {},
   "outputs": [],
   "source": [
    "# f, ax = plt.subplots()\n",
    "f, ax = plt.subplots(figsize=(8, 6))\n",
    "\n",
    "p1 = sns.scatterplot(\n",
    "    x=adata.obsm[\"X_umap\"][:, 0],\n",
    "    y=adata.obsm[\"X_umap\"][:, 1],\n",
    "    palette=\"Greys\",\n",
    "    hue=adata.obs[\"counts_per_1MB\"],\n",
    "    ax=ax,\n",
    ")\n",
    "norm = plt.Normalize(\n",
    "    adata.obs[\"counts_per_1MB\"].min(), adata.obs[\"counts_per_1MB\"].max()\n",
    ")\n",
    "sm = plt.cm.ScalarMappable(cmap=\"Greys\", norm=norm)\n",
    "sm.set_array([])\n",
    "\n",
    "p1.get_legend().remove()\n",
    "p1.figure.colorbar(sm)\n",
    "ax.set_frame_on(False)\n",
    "ax.axes.get_yaxis().set_visible(False)\n",
    "ax.axes.get_xaxis().set_visible(False)\n",
    "# plt.savefig(\"final_figures/metacells/cells_umap.png\", dpi = 300)\n",
    "# plt.savefig(\"final_figures/metacells/cells_umap.pdf\", dpi = 300)\n",
    "plt.show()"
   ]
  },
  {
   "cell_type": "code",
   "execution_count": null,
   "metadata": {},
   "outputs": [],
   "source": [
    "palette = sns.color_palette(\"Purples\", as_cmap=True)\n",
    "custom_colormap = mcolors.LinearSegmentedColormap.from_list(\n",
    "    \"CustomPurple\", [(0, palette(0.4)), (0.4, palette(0.8)), (1, palette(0.9))]\n",
    ")\n",
    "custom_colormap"
   ]
  },
  {
   "cell_type": "code",
   "execution_count": null,
   "metadata": {},
   "outputs": [],
   "source": [
    "# f, ax = plt.subplots()\n",
    "f, ax = plt.subplots(figsize=(8, 6))\n",
    "\n",
    "p1 = sns.scatterplot(\n",
    "    x=adata.obsm[\"X_umap\"][:, 0],\n",
    "    y=adata.obsm[\"X_umap\"][:, 1],\n",
    "    alpha=0.1,\n",
    "    color=\"grey\",\n",
    "    ax=ax,\n",
    ")\n",
    "p2 = sns.scatterplot(\n",
    "    x=clust_df.umap_x,\n",
    "    y=clust_df.umap_y,\n",
    "    hue=clust_df.counts_per_1MB,\n",
    "    palette=custom_colormap,\n",
    "    ax=ax,\n",
    ")\n",
    "\n",
    "norm = plt.Normalize(clust_df.counts_per_1MB.min(), clust_df.counts_per_1MB.max())\n",
    "sm = plt.cm.ScalarMappable(cmap=custom_colormap, norm=norm)\n",
    "sm.set_array([])\n",
    "\n",
    "p2.get_legend().remove()\n",
    "p2.figure.colorbar(sm)\n",
    "ax.set_frame_on(False)\n",
    "ax.axes.get_yaxis().set_visible(False)\n",
    "ax.axes.get_xaxis().set_visible(False)\n",
    "# plt.savefig(\"final_figures/metacells/pre_metacells.png\", dpi = 300)\n",
    "# plt.savefig(\"final_figures/metacells/pre_metacells.pdf\", dpi = 300)\n",
    "plt.show()"
   ]
  },
  {
   "cell_type": "code",
   "execution_count": null,
   "metadata": {},
   "outputs": [],
   "source": [
    "sns.scatterplot(\n",
    "    x=adata.obsm[\"X_pca\"][:, 0], y=adata.obsm[\"X_pca\"][:, 1], alpha=0.1, color=\"grey\"\n",
    ")\n",
    "sns.scatterplot(\n",
    "    x=clust_df.PC_0,\n",
    "    y=clust_df.PC_1,\n",
    "    hue=clust_df.coverage,\n",
    "    style=clust_df[\"pass_min\"],\n",
    "    palette=\"crest\",\n",
    ")"
   ]
  },
  {
   "cell_type": "code",
   "execution_count": null,
   "metadata": {},
   "outputs": [],
   "source": [
    "sns.set(style=\"white\", font_scale=1.5)"
   ]
  },
  {
   "cell_type": "code",
   "execution_count": null,
   "metadata": {},
   "outputs": [],
   "source": [
    "plt.hist(counts_df.mean(axis=1), label=\"cells\", alpha=0.6, color=\"grey\")\n",
    "plt.hist(clust_df.coverage, alpha=0.6, label=\"pre metacells\", color=\"purple\")\n",
    "\n",
    "plt.axvline(200, label=\"minimal threshold\", ls=\"--\", color=\"grey\")\n",
    "plt.legend()\n",
    "# plt.savefig(\"final_figures/metacells/pre_histo.png\", dpi = 300)\n",
    "# plt.savefig(\"final_figures/metacells/pre_histo.pdf\", dpi = 300)\n",
    "plt.xlabel(\"Mean counts per 1MB\")\n",
    "plt.show()"
   ]
  },
  {
   "cell_type": "code",
   "execution_count": null,
   "metadata": {},
   "outputs": [],
   "source": [
    "plt.hist(clust_df.n_cells, alpha=0.3, label=\"pre_metacells\")\n",
    "plt.legend()"
   ]
  },
  {
   "cell_type": "code",
   "execution_count": null,
   "metadata": {},
   "outputs": [],
   "source": [
    "clust_df"
   ]
  },
  {
   "cell_type": "code",
   "execution_count": null,
   "metadata": {},
   "outputs": [],
   "source": [
    "pcs = [x for x in clust_df.columns if x.startswith(\"PC\")]\n",
    "\n",
    "dist = pairwise_distances(clust_df[pcs])\n",
    "plt.hist(dist[np.triu_indices(dist.shape[0], k=1)])"
   ]
  },
  {
   "cell_type": "code",
   "execution_count": null,
   "metadata": {},
   "outputs": [],
   "source": [
    "tmp = pd.DataFrame(adata.X, index=adata.obs.index, columns=adata.var.index)"
   ]
  },
  {
   "cell_type": "code",
   "execution_count": null,
   "metadata": {},
   "outputs": [],
   "source": [
    "ts = np.quantile(\n",
    "    dist[np.triu_indices(dist.shape[0], k=1)], np.linspace(0.01, 1, num=10)\n",
    ")"
   ]
  },
  {
   "cell_type": "code",
   "execution_count": null,
   "metadata": {},
   "outputs": [],
   "source": [
    "results = []\n",
    "for i, d_tresh in enumerate(ts):\n",
    "    (\n",
    "        new_df,\n",
    "        cell_dict,\n",
    "    ) = merge_cells(\n",
    "        d_tresh, clust_df, \"leiden_small\", adata, min_coverage, max_covergae\n",
    "    )\n",
    "    sns.scatterplot(\n",
    "        x=adata.obsm[\"X_umap\"][:, 0],\n",
    "        y=adata.obsm[\"X_umap\"][:, 1],\n",
    "        alpha=0.1,\n",
    "        color=\"grey\",\n",
    "    )\n",
    "    sns.scatterplot(\n",
    "        x=new_df.umap_x,\n",
    "        y=new_df.umap_y,\n",
    "        hue=new_df.coverage,\n",
    "        palette=\"crest\",\n",
    "        sizes=(1, 10),\n",
    "    )\n",
    "    plt.show()\n",
    "    num_meta = new_df.shape[0]\n",
    "    size_meta = new_df.n_cells.median()\n",
    "    excluded = len([cell for cell in cell_dict if cell_dict[cell] == \"-1\"])\n",
    "    med_cov = new_df.coverage.median()\n",
    "    reversed_dict = {\n",
    "        value: [key for key in cell_dict if cell_dict[key] == value]\n",
    "        for value in set(cell_dict.values())\n",
    "    }\n",
    "    stds = [tmp.loc[reversed_dict[key]].std().mean() for key in reversed_dict]\n",
    "    results.append((d_tresh, num_meta, size_meta, excluded, med_cov, np.mean(stds)))\n",
    "    print(\n",
    "        f\"Done with run {i}: th. {d_tresh:.2f}, # metacells {num_meta}, median size {size_meta}, {excluded} cells excluded, median coverage {med_cov:.2f}\"\n",
    "    )"
   ]
  },
  {
   "cell_type": "code",
   "execution_count": null,
   "metadata": {},
   "outputs": [],
   "source": [
    "res = pd.DataFrame(\n",
    "    results,\n",
    "    columns=[\n",
    "        \"t\",\n",
    "        \"# metacells\",\n",
    "        \"median_meta_size\",\n",
    "        \"cells_excluded\",\n",
    "        \"median_coverage\",\n",
    "        \"mean_std\",\n",
    "    ],\n",
    ")"
   ]
  },
  {
   "cell_type": "code",
   "execution_count": null,
   "metadata": {},
   "outputs": [],
   "source": [
    "res.cells_excluded = res.cells_excluded / adata.obs.shape[0]"
   ]
  },
  {
   "cell_type": "code",
   "execution_count": null,
   "metadata": {},
   "outputs": [],
   "source": [
    "(\n",
    "    new_df,\n",
    "    cell_dict,\n",
    ") = merge_cells(ts[-1], clust_df, \"leiden_small\", adata, min_coverage, max_covergae)"
   ]
  },
  {
   "cell_type": "code",
   "execution_count": null,
   "metadata": {},
   "outputs": [],
   "source": [
    "new_df.shape[0]"
   ]
  },
  {
   "cell_type": "code",
   "execution_count": null,
   "metadata": {},
   "outputs": [],
   "source": [
    "new_df.n_cells.median()"
   ]
  },
  {
   "cell_type": "code",
   "execution_count": null,
   "metadata": {},
   "outputs": [],
   "source": [
    "len([cell for cell in cell_dict if cell_dict[cell] == \"-1\"])"
   ]
  },
  {
   "cell_type": "code",
   "execution_count": null,
   "metadata": {},
   "outputs": [],
   "source": [
    "new_df[new_df.pass_min == False]"
   ]
  },
  {
   "cell_type": "code",
   "execution_count": null,
   "metadata": {},
   "outputs": [],
   "source": [
    "new_df[\"counts_per_1MB\"] = new_df[\"coverage\"]"
   ]
  },
  {
   "cell_type": "code",
   "execution_count": null,
   "metadata": {},
   "outputs": [],
   "source": [
    "f, ax = plt.subplots(figsize=(8, 6))\n",
    "\n",
    "p1 = sns.scatterplot(\n",
    "    x=adata.obsm[\"X_umap\"][:, 0],\n",
    "    y=adata.obsm[\"X_umap\"][:, 1],\n",
    "    alpha=0.1,\n",
    "    color=\"grey\",\n",
    "    ax=ax,\n",
    ")\n",
    "p2 = sns.scatterplot(\n",
    "    x=new_df.umap_x,\n",
    "    y=new_df.umap_y,\n",
    "    hue=new_df.counts_per_1MB,\n",
    "    palette=custom_colormap,\n",
    "    ax=ax,\n",
    ")\n",
    "\n",
    "norm = plt.Normalize(clust_df.counts_per_1MB.min(), clust_df.counts_per_1MB.max())\n",
    "sm = plt.cm.ScalarMappable(cmap=custom_colormap, norm=norm)\n",
    "sm.set_array([])\n",
    "\n",
    "p2.get_legend().remove()\n",
    "p2.figure.colorbar(sm)\n",
    "ax.set_frame_on(False)\n",
    "ax.axes.get_yaxis().set_visible(False)\n",
    "ax.axes.get_xaxis().set_visible(False)\n",
    "\n",
    "\n",
    "# plt.savefig(\"final_figures/metacells/post_metacells.png\", dpi = 300)\n",
    "# plt.savefig(\"final_figures/metacells/post_metacells.pdf\", dpi = 300)\n",
    "plt.show()"
   ]
  },
  {
   "cell_type": "code",
   "execution_count": null,
   "metadata": {},
   "outputs": [],
   "source": [
    "sns.scatterplot(\n",
    "    x=adata.obsm[\"X_pca\"][:, 0], y=adata.obsm[\"X_pca\"][:, 1], alpha=0.1, color=\"grey\"\n",
    ")\n",
    "sns.scatterplot(\n",
    "    x=new_df.PC_1,\n",
    "    y=new_df.PC_2,\n",
    "    hue=clust_df.coverage,\n",
    "    style=new_df[\"pass_min\"],\n",
    "    palette=\"crest\",\n",
    ")"
   ]
  },
  {
   "cell_type": "code",
   "execution_count": null,
   "metadata": {},
   "outputs": [],
   "source": [
    "plt.hist(counts_df.mean(axis=1), label=\"cells\", alpha=0.6, color=\"grey\")\n",
    "plt.hist(new_df.coverage, alpha=0.6, label=\"metacells\", color=\"purple\")\n",
    "\n",
    "plt.axvline(200, label=\"minimal threshold\", ls=\"--\", color=\"grey\")\n",
    "plt.legend()\n",
    "\n",
    "plt.xlabel(\"Mean counts per 1MB\")\n",
    "plt.show()"
   ]
  },
  {
   "cell_type": "code",
   "execution_count": null,
   "metadata": {},
   "outputs": [],
   "source": [
    "new_df.sort_values(by=\"counts_per_1MB\")"
   ]
  },
  {
   "cell_type": "code",
   "execution_count": null,
   "metadata": {},
   "outputs": [],
   "source": [
    "mc_path = \"./metacells/\""
   ]
  },
  {
   "cell_type": "code",
   "execution_count": null,
   "metadata": {},
   "outputs": [],
   "source": [
    "for mc in tqdm(new_df.cl):\n",
    "    cells = [x for x in cell_dict if cell_dict[x] == mc]\n",
    "\n",
    "    with open(f\"{mc_path}{mc}.txt\", \"w\") as the_file:\n",
    "        for cell in cells:\n",
    "            full_path = f\"readCount_filtered_bam/readcounts.100kb.cell_bc_{cell}.seg\"\n",
    "            the_file.write(f\"{full_path}\\n\")"
   ]
  }
 ],
 "metadata": {
  "kernelspec": {
   "display_name": "Python 3 (ipykernel)",
   "language": "python",
   "name": "python3"
  },
  "language_info": {
   "codemirror_mode": {
    "name": "ipython",
    "version": 3
   },
   "file_extension": ".py",
   "mimetype": "text/x-python",
   "name": "python",
   "nbconvert_exporter": "python",
   "pygments_lexer": "ipython3",
   "version": "3.10.13"
  }
 },
 "nbformat": 4,
 "nbformat_minor": 4
}
