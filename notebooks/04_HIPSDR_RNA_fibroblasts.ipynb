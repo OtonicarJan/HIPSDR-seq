{
 "cells": [
  {
   "cell_type": "code",
   "execution_count": null,
   "id": "a5192d17-5d92-4d58-bd82-bcef18f1c47a",
   "metadata": {},
   "outputs": [],
   "source": [
    "import logging\n",
    "\n",
    "import anndata2ri\n",
    "import matplotlib.pyplot as plt\n",
    "import numpy as np\n",
    "import pandas as pd\n",
    "import rpy2.rinterface_lib.callbacks as rcb\n",
    "import rpy2.robjects as ro\n",
    "import scanpy as sc\n",
    "import seaborn as sns\n",
    "from scipy.stats import median_abs_deviation"
   ]
  },
  {
   "cell_type": "code",
   "execution_count": null,
   "id": "65717d04-1df2-4132-a247-f32668ec5381",
   "metadata": {},
   "outputs": [],
   "source": [
    "adata = sc.read_10x_mtx(\n",
    "    \"../HIPSDR-seq/1_LFS_HIPSDR_GEX_2/outs/filtered_feature_bc_matrix/\"\n",
    ")\n",
    "adata.var_names_make_unique()"
   ]
  },
  {
   "cell_type": "code",
   "execution_count": null,
   "id": "94a0fb88-1a8b-4e37-9503-7732e839bf80",
   "metadata": {},
   "outputs": [],
   "source": [
    "adata.var[\"MT\"] = adata.var.index.str.startswith(\"MT-\")\n",
    "sc.pp.calculate_qc_metrics(\n",
    "    adata, qc_vars=[\"MT\"], percent_top=[20], log1p=True, inplace=True\n",
    ")\n",
    "sc.pp.filter_cells(adata, min_genes=200)"
   ]
  },
  {
   "cell_type": "code",
   "execution_count": null,
   "id": "6c956658-c23b-4c3d-891c-e0dd7e66bce6",
   "metadata": {},
   "outputs": [],
   "source": [
    "p1 = sns.displot(adata.obs[\"total_counts\"], bins=100, kde=False)\n",
    "p2 = sc.pl.violin(adata, \"pct_counts_MT\")\n",
    "p3 = sc.pl.scatter(adata, \"total_counts\", \"n_genes_by_counts\", color=\"pct_counts_MT\")"
   ]
  },
  {
   "cell_type": "code",
   "execution_count": null,
   "id": "cefc1e38-79fd-4956-a36d-3b6e38900fb1",
   "metadata": {},
   "outputs": [],
   "source": [
    "sc.pl.violin(\n",
    "    adata=adata,\n",
    "    keys=[\"n_genes_by_counts\", \"total_counts\", \"pct_counts_MT\"],\n",
    "    multi_panel=True,\n",
    ")"
   ]
  },
  {
   "cell_type": "code",
   "execution_count": null,
   "id": "2338c6d7-f6d4-4749-af6a-1ca007558e14",
   "metadata": {},
   "outputs": [],
   "source": [
    "def is_outlier(adata, metric: str, nmads: int):\n",
    "    M = adata.obs[metric]\n",
    "    outlier = (M < np.median(M) - nmads * median_abs_deviation(M)) | (\n",
    "        np.median(M) + nmads * median_abs_deviation(M) < M\n",
    "    )\n",
    "    return outlier"
   ]
  },
  {
   "cell_type": "code",
   "execution_count": null,
   "id": "87c69b39-3206-4520-b2cb-36b9c9b7cbcf",
   "metadata": {},
   "outputs": [],
   "source": [
    "adata.obs[\"outlier\"] = (\n",
    "    is_outlier(adata, \"log1p_total_counts\", 5)\n",
    "    | is_outlier(adata, \"log1p_n_genes_by_counts\", 5)\n",
    "    | is_outlier(adata, \"pct_counts_in_top_20_genes\", 5)\n",
    ")\n",
    "adata.obs.outlier.value_counts()"
   ]
  },
  {
   "cell_type": "code",
   "execution_count": null,
   "id": "4d93bb30-68a7-4a22-8465-7764a989933c",
   "metadata": {},
   "outputs": [],
   "source": [
    "adata_raw = adata.copy()"
   ]
  },
  {
   "cell_type": "code",
   "execution_count": null,
   "id": "7da7fd4e-bc25-43ba-8588-53412a0fcb45",
   "metadata": {},
   "outputs": [],
   "source": [
    "adata.obs[\"mt_outlier\"] = is_outlier(adata, \"pct_counts_MT\", 3) | (\n",
    "    adata.obs[\"pct_counts_MT\"] > 6\n",
    ")\n",
    "adata.obs.mt_outlier.value_counts()\n",
    "adata.layers[\"counts\"] = adata.X.copy()"
   ]
  },
  {
   "cell_type": "code",
   "execution_count": null,
   "id": "5128116e-3a7d-43a8-8ef9-89640f76c02f",
   "metadata": {},
   "outputs": [],
   "source": [
    "print(f\"Total number of cells: {adata.n_obs}\")\n",
    "adata = adata[(~adata.obs.outlier) & (~adata.obs.mt_outlier)].copy()\n",
    "\n",
    "print(f\"Number of cells after filtering of low quality cells: {adata.n_obs}\")"
   ]
  },
  {
   "cell_type": "markdown",
   "id": "b2a13a56-85e2-4e9c-8be6-2a6165976360",
   "metadata": {},
   "source": [
    "## Ambient RNA removal"
   ]
  },
  {
   "cell_type": "code",
   "execution_count": null,
   "id": "432d96d2-6576-4ade-8df0-ddb37b4257b2",
   "metadata": {},
   "outputs": [],
   "source": [
    "rcb.logger.setLevel(logging.ERROR)\n",
    "ro.pandas2ri.activate()\n",
    "anndata2ri.activate()\n",
    "\n",
    "%load_ext rpy2.ipython"
   ]
  },
  {
   "cell_type": "code",
   "execution_count": null,
   "id": "66c02654-daf8-45c8-a5e7-eae253d401f9",
   "metadata": {
    "tags": []
   },
   "outputs": [],
   "source": [
    "%%R\n",
    "library(SoupX)"
   ]
  },
  {
   "cell_type": "code",
   "execution_count": null,
   "id": "87930c73-ca19-4d84-866a-b1fd33c45ff2",
   "metadata": {},
   "outputs": [],
   "source": [
    "adata_pp = adata.copy()\n",
    "sc.pp.normalize_per_cell(adata_pp)\n",
    "sc.pp.log1p(adata_pp)\n",
    "\n",
    "sc.pp.pca(adata_pp)\n",
    "sc.pp.neighbors(adata_pp)\n",
    "sc.tl.leiden(adata_pp, key_added=\"soupx_groups\")\n",
    "\n",
    "# Preprocess variables for SoupX\n",
    "soupx_groups = adata_pp.obs[\"soupx_groups\"]\n",
    "\n",
    "del adata_pp\n",
    "\n",
    "cells = adata.obs_names\n",
    "genes = adata.var_names\n",
    "data = adata.X.T\n",
    "\n",
    "adata_raw = sc.read_10x_h5(\n",
    "    filename=f\"../HIPSDR-seq/1_LFS_HIPSDR_GEX_2/outs/raw_feature_bc_matrix.h5\",\n",
    ")\n",
    "adata_raw.var_names_make_unique()\n",
    "data_tod = adata_raw.X.T\n",
    "\n",
    "del adata_raw"
   ]
  },
  {
   "cell_type": "code",
   "execution_count": null,
   "id": "83d6576e-ac43-446e-a4df-eb9d0ff3981f",
   "metadata": {},
   "outputs": [],
   "source": [
    "%%R -o out -i data -i data_tod -i genes -i cells -i soupx_groups \n",
    "\n",
    "set.seed(123)\n",
    "# specify row and column names of data\n",
    "rownames(data) = genes\n",
    "colnames(data) = cells\n",
    "# ensure correct sparse format for table of counts and table of droplets\n",
    "data <- as(data, \"sparseMatrix\")\n",
    "data_tod <- as(data_tod, \"sparseMatrix\")\n",
    "\n",
    "# Generate SoupChannel Object for SoupX \n",
    "sc = SoupChannel(data_tod, data, calcSoupProfile = FALSE)\n",
    "\n",
    "# Add extra meta data to the SoupChannel object\n",
    "soupProf = data.frame(row.names = rownames(data), est = rowSums(data)/sum(data), counts = rowSums(data))\n",
    "sc = setSoupProfile(sc, soupProf)\n",
    "# Set cluster information in SoupChannel\n",
    "sc = setClusters(sc, soupx_groups)\n",
    "\n",
    "# Estimate contamination fraction\n",
    "sc  = autoEstCont(sc, doPlot=FALSE)\n",
    "# Infer corrected table of counts and rount to integer\n",
    "out = adjustCounts(sc, roundToInt = TRUE)"
   ]
  },
  {
   "cell_type": "code",
   "execution_count": null,
   "id": "2808e578-cf5e-4a25-8363-252af5082302",
   "metadata": {},
   "outputs": [],
   "source": [
    "out = %Rget out"
   ]
  },
  {
   "cell_type": "code",
   "execution_count": null,
   "id": "d2b83b0b-3c19-451f-9bf3-16af8d7cffd3",
   "metadata": {},
   "outputs": [],
   "source": [
    "adata.layers[\"counts\"] = adata.X.copy()\n",
    "adata.layers[\"soupX_counts\"] = out.T\n",
    "adata.X = adata.layers[\"soupX_counts\"].copy()"
   ]
  },
  {
   "cell_type": "code",
   "execution_count": null,
   "id": "7d594485-5519-4831-bdf6-d3e9bcb5ec74",
   "metadata": {},
   "outputs": [],
   "source": [
    "print(f\"Total number of genes: {adata.n_vars}\")\n",
    "\n",
    "# Min 3 cells - filters out 0 count genes\n",
    "sc.pp.filter_genes(adata, min_cells=3)\n",
    "print(f\"Number of genes after cell filter: {adata.n_vars}\")"
   ]
  },
  {
   "cell_type": "code",
   "execution_count": null,
   "id": "6d4df0cc-bdc4-4998-a9d9-6083d42608be",
   "metadata": {},
   "outputs": [],
   "source": [
    "p1 = sns.displot(adata.obs[\"total_counts\"], bins=100, kde=False)\n",
    "# sc.pl.violin(adata, 'total_counts')\n",
    "p2 = sc.pl.violin(adata, \"pct_counts_MT\")\n",
    "p3 = sc.pl.scatter(adata, \"total_counts\", \"n_genes_by_counts\", color=\"pct_counts_MT\")"
   ]
  },
  {
   "cell_type": "code",
   "execution_count": null,
   "id": "6c5ec5e1-1983-4a77-a61b-433ce1f81405",
   "metadata": {},
   "outputs": [],
   "source": [
    "adata_ambient = adata.copy()"
   ]
  },
  {
   "cell_type": "markdown",
   "id": "b9f2132e-55e8-4a66-baff-b78133753da5",
   "metadata": {},
   "source": [
    "## Doublet removal"
   ]
  },
  {
   "cell_type": "code",
   "execution_count": null,
   "id": "03a96496-a816-45ea-9ad2-a7890382f979",
   "metadata": {
    "tags": []
   },
   "outputs": [],
   "source": [
    "%%R\n",
    "library(Seurat)\n",
    "library(scater)\n",
    "library(scDblFinder)\n",
    "library(BiocParallel)"
   ]
  },
  {
   "cell_type": "code",
   "execution_count": null,
   "id": "a27e2a04-f180-43ed-89eb-f25eb325981b",
   "metadata": {},
   "outputs": [],
   "source": [
    "data_mat = adata.X.T.copy()"
   ]
  },
  {
   "cell_type": "code",
   "execution_count": null,
   "id": "fac7665d-1d98-45c1-9eb9-74ec6ea023fd",
   "metadata": {
    "tags": []
   },
   "outputs": [],
   "source": [
    "%%R -i data_mat -o doublet_score -o doublet_class\n",
    "\n",
    "set.seed(123)\n",
    "sce = scDblFinder(\n",
    "    SingleCellExperiment(\n",
    "        list(counts=data_mat),\n",
    "    ) \n",
    ")\n",
    "doublet_score = sce$scDblFinder.score\n",
    "doublet_class = sce$scDblFinder.class"
   ]
  },
  {
   "cell_type": "code",
   "execution_count": null,
   "id": "22c47cd9-acc6-4b52-87f1-41511bd61639",
   "metadata": {},
   "outputs": [],
   "source": [
    "doublet_scr = %Rget doublet_score\n",
    "doublet_cls = %Rget doublet_class"
   ]
  },
  {
   "cell_type": "code",
   "execution_count": null,
   "id": "f768882d-5bce-467b-8a58-7d25aac1b03d",
   "metadata": {},
   "outputs": [],
   "source": [
    "adata.obs[\"scDblFinder_score\"] = doublet_scr\n",
    "adata.obs[\"scDblFinder_class\"] = doublet_cls\n",
    "adata.obs.scDblFinder_class.value_counts()"
   ]
  },
  {
   "cell_type": "code",
   "execution_count": null,
   "id": "ba2644a2-c161-4c03-97b6-bf72c9927198",
   "metadata": {},
   "outputs": [],
   "source": [
    "adata_doublets = adata.copy()"
   ]
  },
  {
   "cell_type": "code",
   "execution_count": null,
   "id": "5b50c4fc-4ba1-433b-83ea-8fdf4ebb743e",
   "metadata": {},
   "outputs": [],
   "source": [
    "print(adata_doublets.X.max())"
   ]
  },
  {
   "cell_type": "code",
   "execution_count": null,
   "id": "123b50a9-6693-4da1-8a10-f2a94b6a10a9",
   "metadata": {},
   "outputs": [],
   "source": [
    "adata_doublets.X = adata_doublets.layers[\"soupX_counts\"].copy()\n",
    "sc.pp.normalize_total(adata_doublets, target_sum=1e4)\n",
    "sc.pp.log1p(adata_doublets)\n",
    "sc.pp.highly_variable_genes(adata_doublets, flavor=\"seurat\", n_top_genes=2000)\n",
    "sc.tl.pca(adata_doublets, svd_solver=\"arpack\", use_highly_variable=True)\n",
    "sc.pp.neighbors(adata_doublets)\n",
    "sc.tl.umap(adata_doublets)\n",
    "sc.pl.umap(adata_doublets, color=[\"scDblFinder_score\", \"scDblFinder_class\"])"
   ]
  },
  {
   "cell_type": "code",
   "execution_count": null,
   "id": "bd2a4fd2-88bb-40e2-9d25-cbf4d7545c44",
   "metadata": {},
   "outputs": [],
   "source": [
    "adata.write_h5ad(\"hipsdr_rna_qc.h5ad\")"
   ]
  },
  {
   "cell_type": "markdown",
   "id": "237075a0-0a5a-4d81-a92b-2e4f6f5ab701",
   "metadata": {},
   "source": [
    "## Normalization and clustering"
   ]
  },
  {
   "cell_type": "code",
   "execution_count": null,
   "id": "f070dc2f-a84b-4f78-b13d-2f0a3d1ea968",
   "metadata": {},
   "outputs": [],
   "source": [
    "adata = sc.read_h5ad(\"../HIPSDR-seq/hipsdr_rna_qc.h5ad\")"
   ]
  },
  {
   "cell_type": "code",
   "execution_count": null,
   "id": "fdce9e50-5d0d-44b8-af39-647a5aab2681",
   "metadata": {},
   "outputs": [],
   "source": [
    "adata = adata[adata.obs[\"scDblFinder_class\"] == \"singlet\"].copy()"
   ]
  },
  {
   "cell_type": "code",
   "execution_count": null,
   "id": "853d5bf0-bc72-4152-98f3-71b9837b7670",
   "metadata": {},
   "outputs": [],
   "source": [
    "clones = pd.read_csv(\"../HIPSDR-seq/clusters_final.csv\", index_col=0)"
   ]
  },
  {
   "cell_type": "code",
   "execution_count": null,
   "id": "f51d8a09-9e32-49d8-aff5-ac944410bfb6",
   "metadata": {},
   "outputs": [],
   "source": [
    "adata = adata[adata.obs_names.isin(clones.index)].copy()\n",
    "adata"
   ]
  },
  {
   "cell_type": "code",
   "execution_count": null,
   "id": "b8e1f960-a66a-47b4-a08d-07b2ba5f4679",
   "metadata": {},
   "outputs": [],
   "source": [
    "adata.X = adata.layers[\"soupX_counts\"].copy()\n",
    "sc.pp.normalize_total(adata, target_sum=1e4)\n",
    "sc.pp.log1p(adata)"
   ]
  },
  {
   "cell_type": "code",
   "execution_count": null,
   "id": "b75b4fb4-a5c5-4d2f-b429-8808fdb2de8a",
   "metadata": {},
   "outputs": [],
   "source": [
    "adata.layers[\"logcounts\"] = adata.X.copy()\n",
    "sc.pp.highly_variable_genes(adata, flavor=\"seurat\", n_top_genes=2000)\n",
    "sc.tl.pca(adata, svd_solver=\"arpack\", use_highly_variable=True)\n",
    "sc.pl.pca_variance_ratio(adata)\n",
    "sc.pp.neighbors(adata, n_pcs=15)\n",
    "sc.tl.umap(adata)"
   ]
  },
  {
   "cell_type": "code",
   "execution_count": null,
   "id": "13f8001c-7d5e-4077-982f-c0d31bc4f5cf",
   "metadata": {},
   "outputs": [],
   "source": [
    "adata.obs[\"cluster\"] = adata.obs_names.map(clones.clusters)"
   ]
  },
  {
   "cell_type": "code",
   "execution_count": null,
   "id": "897d040d-f6ee-4662-93ab-5c922e6319e5",
   "metadata": {},
   "outputs": [],
   "source": [
    "sc.pl.umap(\n",
    "    adata,\n",
    "    color=[\"n_genes_by_counts\", \"log1p_total_counts\", \"pct_counts_MT\", \"cluster\"],\n",
    "    ncols=2,\n",
    ")"
   ]
  },
  {
   "cell_type": "code",
   "execution_count": null,
   "id": "2ac2f6ba-d9d6-4644-aac9-307b5134cf0c",
   "metadata": {},
   "outputs": [],
   "source": [
    "sc.tl.rank_genes_groups(adata, groupby=\"cluster\", method=\"wilcoxon\")"
   ]
  },
  {
   "cell_type": "code",
   "execution_count": null,
   "id": "37f7f0f6-4af4-4ef9-9727-df197f07806b",
   "metadata": {},
   "outputs": [],
   "source": [
    "sc.tl.filter_rank_genes_groups(adata)"
   ]
  },
  {
   "cell_type": "code",
   "execution_count": null,
   "id": "f2d0e912-cccb-4594-b2fb-a7607b66580d",
   "metadata": {},
   "outputs": [],
   "source": [
    "plt.figure(figsize=(10, 5))\n",
    "sc.pl.rank_genes_groups_dotplot(adata, key=\"rank_genes_groups_filtered\", show=False)\n",
    "plt.tight_layout()\n",
    "plt.savefig(\"figures_rebuttal/dotplot_expression.png\", bbox_inches=\"tight\", dpi=300)\n",
    "plt.savefig(\"figures_rebuttal/dotplot_expression.svg\", bbox_inches=\"tight\", dpi=300)"
   ]
  },
  {
   "cell_type": "code",
   "execution_count": null,
   "id": "66e90de7-136c-4c67-94a8-817573514565",
   "metadata": {},
   "outputs": [],
   "source": [
    "sc.pl.umap(\n",
    "    adata,\n",
    "    color=[\"cluster\"],\n",
    "    title=[\"Cluster\"],\n",
    "    ncols=2,\n",
    "    show=False,\n",
    "    wspace=0.2,\n",
    "    palette={\n",
    "        \"Cluster 1\": sns.palettes.color_palette(\"tab10\")[6],\n",
    "        \"Cluster 0\": sns.palettes.color_palette(\"tab10\")[0],\n",
    "    },\n",
    ")\n",
    "plt.tight_layout()\n",
    "plt.savefig(\"figures_rebuttal/scRNA_dna_cluster.png\", dpi=300)\n",
    "plt.savefig(\"figures_rebuttal/scRNA_dna_cluster.svg\", dpi=300)"
   ]
  },
  {
   "cell_type": "markdown",
   "id": "0dd65d17",
   "metadata": {},
   "source": [
    "## Clusters for HIPSD"
   ]
  },
  {
   "cell_type": "code",
   "execution_count": null,
   "id": "1b6389df",
   "metadata": {},
   "outputs": [],
   "source": [
    "cna = pd.read_csv(\"../data/CNVs_HIPSDR_filtered.csv.gz\", index_col=0)\n",
    "cna"
   ]
  },
  {
   "cell_type": "code",
   "execution_count": null,
   "id": "9fc766e4",
   "metadata": {},
   "outputs": [],
   "source": [
    "cna = (cna - 2) / 3"
   ]
  },
  {
   "cell_type": "code",
   "execution_count": null,
   "id": "030e37a3",
   "metadata": {},
   "outputs": [],
   "source": [
    "adata = sc.AnnData(cna)"
   ]
  },
  {
   "cell_type": "code",
   "execution_count": null,
   "id": "e6de0a1e",
   "metadata": {},
   "outputs": [],
   "source": [
    "adata.var[\"chromosome\"] = adata.var.index.str.split(\":\").str[0]\n",
    "adata.var[\"start\"] = (\n",
    "    adata.var.index.str.split(\":\").str[1].str.split(\"-\").str[0].astype(int)\n",
    ")\n",
    "adata.var[\"end\"] = (\n",
    "    adata.var.index.str.split(\":\").str[1].str.split(\"-\").str[1].astype(int)\n",
    ")"
   ]
  },
  {
   "cell_type": "code",
   "execution_count": null,
   "id": "1fcefa9b",
   "metadata": {},
   "outputs": [],
   "source": [
    "adata.var.columns = [\"chromosome\", \"start\", \"end\"]\n",
    "adata.obsm[\"X_cnv\"] = adata.X\n",
    "adata.var[\"pos\"] = np.arange(adata.var.shape[0])\n",
    "chrom_dict = {}\n",
    "chrom_dict[\"chr_pos\"] = {}\n",
    "for tup in adata.var.itertuples():\n",
    "    if tup.chromosome not in chrom_dict[\"chr_pos\"]:\n",
    "        chrom_dict[\"chr_pos\"][tup.chromosome] = tup.pos\n",
    "    if chrom_dict[\"chr_pos\"][tup.chromosome] > tup.pos:\n",
    "        chrom_dict[\"chr_pos\"][tup.chromosome] = tup.pos\n",
    "adata.uns[\"cnv\"] = chrom_dict"
   ]
  },
  {
   "cell_type": "code",
   "execution_count": null,
   "id": "6f1cb77e",
   "metadata": {},
   "outputs": [],
   "source": [
    "sc.tl.pca(adata, svd_solver=\"arpack\")\n",
    "sc.pp.neighbors(adata)\n",
    "sc.tl.leiden(adata, key_added=\"cnv_leiden\", resolution=0.7)\n",
    "sc.tl.paga(adata, groups=\"cnv_leiden\")\n",
    "sc.pl.paga(\n",
    "    adata, plot=True\n",
    ")  # remove `plot=False` if you want to see the coarse-grained graph\n",
    "sc.tl.umap(adata, init_pos=\"paga\")"
   ]
  },
  {
   "cell_type": "code",
   "execution_count": null,
   "id": "73c0002d",
   "metadata": {},
   "outputs": [],
   "source": [
    "adata.obs[\"cluster\"] = adata.obs.index.map(clones.cluster)"
   ]
  },
  {
   "cell_type": "code",
   "execution_count": null,
   "id": "7f1f48b0",
   "metadata": {},
   "outputs": [],
   "source": [
    "sc.pl.umap(\n",
    "    adata,\n",
    "    color=[\"cluster\"],\n",
    "    title=[\"Cluster\"],\n",
    "    palette={\n",
    "        \"Cluster 1\": sns.palettes.color_palette(\"tab10\")[6],\n",
    "        \"Cluster 0\": sns.palettes.color_palette(\"tab10\")[0],\n",
    "    },\n",
    "    ncols=2,\n",
    "    vmax=\"p99\",\n",
    "    show=False,\n",
    "    wspace=0.2,\n",
    ")\n",
    "plt.tight_layout()\n",
    "plt.savefig(\"figures_rebuttal/HIPSD_DNA_UMAP_clusters.png\", dpi=300)"
   ]
  }
 ],
 "metadata": {
  "kernelspec": {
   "display_name": "Python 3 (ipykernel)",
   "language": "python",
   "name": "python3"
  },
  "language_info": {
   "codemirror_mode": {
    "name": "ipython",
    "version": 3
   },
   "file_extension": ".py",
   "mimetype": "text/x-python",
   "name": "python",
   "nbconvert_exporter": "python",
   "pygments_lexer": "ipython3",
   "version": "3.10.13"
  }
 },
 "nbformat": 4,
 "nbformat_minor": 5
}
