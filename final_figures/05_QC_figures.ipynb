{
 "cells": [
  {
   "cell_type": "code",
   "execution_count": 1,
   "id": "f8ea8a85-3ffc-4398-bebf-32de2145942b",
   "metadata": {},
   "outputs": [],
   "source": [
    "import glob\n",
    "\n",
    "import matplotlib.pyplot as plt\n",
    "import numpy as np\n",
    "import pandas as pd\n",
    "import scanpy as sc\n",
    "import seaborn as sns\n",
    "from tqdm import tqdm"
   ]
  },
  {
   "cell_type": "code",
   "execution_count": 309,
   "id": "13e7eab3-8189-41f6-9fc2-3408c8f94e10",
   "metadata": {},
   "outputs": [],
   "source": [
    "sns.set(style=\"white\", font_scale=1.5)"
   ]
  },
  {
   "cell_type": "code",
   "execution_count": 310,
   "id": "f1f3f7a4-d776-4fa4-8de7-36c4ada8b8d0",
   "metadata": {},
   "outputs": [],
   "source": [
    "sns.reset_defaults()"
   ]
  },
  {
   "cell_type": "code",
   "execution_count": null,
   "id": "23facaf7-3d2c-4f75-93ec-564dc0dc27c2",
   "metadata": {},
   "outputs": [],
   "source": [
    "colors = sns.color_palette(\"colorblind\", 10)\n",
    "colors"
   ]
  },
  {
   "cell_type": "markdown",
   "id": "b3212fe4-2a1a-430f-b090-94c45d9a4e11",
   "metadata": {},
   "source": [
    "# Coverage"
   ]
  },
  {
   "cell_type": "code",
   "execution_count": 312,
   "id": "cc14c516-8c6f-44ff-9546-6e618d952e84",
   "metadata": {},
   "outputs": [],
   "source": [
    "coverage_cell = []\n",
    "assay = [\n",
    "    \"HIPSD&R-seq (PDX)\",\n",
    "    \"HIPSD&R-seq (LFS041_LFS087_1:1)\",\n",
    "    \"HIPSD-seq (LFS041_62)\",\n",
    "    \"sciHIPSD-seq (LFS041_LFS087_spikein)\",\n",
    "    \"DEFND-seq (LFS041_LFS087_1:1)\",\n",
    "    \"10x (PDX)\",\n",
    "]\n",
    "paths = [\n",
    "    \"multiome\",\n",
    "    \"multiome_fibroblasts\",\n",
    "    \"matac\",\n",
    "    \"sci_fibroblasts\",\n",
    "    \"multiome_fibroblasts_DEFND\",\n",
    "    \"10x\",\n",
    "]\n",
    "color_order = [colors[4], colors[1], colors[2], colors[7], colors[9], colors[0]]\n",
    "for path in paths:\n",
    "    tmp = pd.read_csv(f\"QC/{path}/cell_coverage.csv\", index_col=0)\n",
    "    coverage_cell.append(tmp[\"0\"].dropna())"
   ]
  },
  {
   "cell_type": "code",
   "execution_count": null,
   "id": "58cab994-0e29-46cb-9cb4-39893e13e436",
   "metadata": {},
   "outputs": [],
   "source": [
    "plt.figure(figsize=(10, 5))\n",
    "for i in range(len(assay)):\n",
    "    plt.plot(\n",
    "        sorted(coverage_cell[i], reverse=True),\n",
    "        label=assay[i],\n",
    "        color=color_order[i],\n",
    "        lw=2,\n",
    "    )\n",
    "\n",
    "plt.xlabel(\"Cells: best to worse (log)\", fontsize=14)\n",
    "plt.ylabel(f\"Coverage(X)\", fontsize=14)\n",
    "plt.xticks(fontsize=12)\n",
    "plt.yticks(fontsize=12)\n",
    "plt.legend(fontsize=14)\n",
    "plt.tight_layout()\n",
    "plt.xscale(\"log\")\n",
    "\n",
    "plt.savefig(\"final_figures/qc/coverage_cell.png\", dpi=300)\n",
    "plt.savefig(\"final_figures/qc/coverage_cell.svg\", dpi=300)\n",
    "\n",
    "plt.show()"
   ]
  },
  {
   "cell_type": "code",
   "execution_count": 314,
   "id": "747eb545-ffe0-4146-b59f-0ab3a5249178",
   "metadata": {},
   "outputs": [],
   "source": [
    "coverage_meta = []\n",
    "assay = [\n",
    "    \"HIPSD&R-seq (PDX)\",\n",
    "    \"HIPSD&R-seq (LFS041_LFS087_1:1)\",\n",
    "    \"HIPSD-seq (LFS041_62)\",\n",
    "    \"DEFND-seq (LFS041_LFS087_1:1)\",\n",
    "]\n",
    "paths = [\"multiome\", \"multiome_fibroblasts\", \"matac\", \"multiome_fibroblasts_DEFND\"]\n",
    "color_order = [colors[4], colors[1], colors[2], colors[9]]\n",
    "for i in range(len(paths)):\n",
    "    if paths[i] != \"10x\":\n",
    "        d_type = \"meta_coverage\"\n",
    "    else:\n",
    "        d_type = \"cell_coverage\"\n",
    "    tmp = pd.read_csv(f\"QC/{paths[i]}/{d_type}.csv\", index_col=0)\n",
    "    coverage_meta.append(tmp[\"0\"].dropna())"
   ]
  },
  {
   "cell_type": "code",
   "execution_count": null,
   "id": "0d27928f-1fff-473d-bf47-9aff3023ef7b",
   "metadata": {},
   "outputs": [],
   "source": [
    "plt.figure(figsize=(10, 5))\n",
    "for i in range(len(assay)):\n",
    "    plt.plot(\n",
    "        sorted(coverage_meta[i], reverse=True),\n",
    "        label=assay[i],\n",
    "        color=color_order[i],\n",
    "        lw=2,\n",
    "    )\n",
    "\n",
    "plt.xlabel(\"Metacells: best to worse (log)\", fontsize=14)\n",
    "plt.ylabel(f\"Coverage(X)\", fontsize=14)\n",
    "plt.xticks(fontsize=12)\n",
    "plt.yticks(fontsize=12)\n",
    "plt.legend(fontsize=14)\n",
    "plt.tight_layout()\n",
    "plt.xscale(\"log\")\n",
    "\n",
    "plt.savefig(\"final_figures/qc/coverage_meta.png\", dpi=300)\n",
    "plt.savefig(\"final_figures/qc/coverage_meta.svg\", dpi=300)\n",
    "\n",
    "plt.show()"
   ]
  },
  {
   "cell_type": "markdown",
   "id": "c0111391-c78e-4178-9a70-23ce21de8eaf",
   "metadata": {},
   "source": [
    "# Counts"
   ]
  },
  {
   "cell_type": "code",
   "execution_count": null,
   "id": "bb7fbf65-e3a1-4754-b2a8-cd594bc10cc6",
   "metadata": {},
   "outputs": [],
   "source": [
    "counts_cell = []\n",
    "assay = [\n",
    "    \"HIPSD&R-seq (PDX)\",\n",
    "    \"HIPSD&R-seq (LFS041_LFS087_1:1)\",\n",
    "    \"HIPSD-seq (LFS041_62)\",\n",
    "    \"sciHIPSD-seq (LFS041_LFS087_spikein)\",\n",
    "    \"DEFND-seq (LFS041_LFS087_1:1)\",\n",
    "    \"10x (PDX)\",\n",
    "]\n",
    "paths = [\n",
    "    \"multiome\",\n",
    "    \"multiome_fibroblasts\",\n",
    "    \"matac\",\n",
    "    \"sci_fibroblasts\",\n",
    "    \"multiome_fibroblasts_DEFND\",\n",
    "    \"10x\",\n",
    "]\n",
    "color_order = [colors[4], colors[1], colors[2], colors[7], colors[9], colors[0]]\n",
    "for path in tqdm(paths):\n",
    "    tmp = pd.read_csv(f\"QC/{path}/cell_counts.csv\", index_col=0)\n",
    "    counts_cell.append(tmp.sum(axis=1))"
   ]
  },
  {
   "cell_type": "code",
   "execution_count": null,
   "id": "6ba51f6d-cb6d-4468-aabb-410fbb07540c",
   "metadata": {},
   "outputs": [],
   "source": [
    "plt.figure(figsize=(10, 4))\n",
    "for i in range(len(assay)):\n",
    "    plt.plot(\n",
    "        sorted(counts_cell[i], reverse=True), label=assay[i], color=color_order[i], lw=2\n",
    "    )\n",
    "\n",
    "\n",
    "plt.xlabel(\"Cells: best to worse (log)\")\n",
    "plt.ylabel(f\"Reads\")\n",
    "plt.xscale(\"log\")\n",
    "\n",
    "plt.savefig(\"final_figures/qc/counts_cell.png\", dpi=300)\n",
    "plt.savefig(\"final_figures/qc/counts_cell.svg\", dpi=300)\n",
    "\n",
    "plt.show()"
   ]
  },
  {
   "cell_type": "code",
   "execution_count": null,
   "id": "f4af368c-2737-4806-b7a0-9a4f6c248f4f",
   "metadata": {},
   "outputs": [],
   "source": [
    "plt.figure(figsize=(10, 5))\n",
    "for i in range(len(assay)):\n",
    "    plt.plot(\n",
    "        np.cumsum(sorted(counts_cell[i], reverse=True)),\n",
    "        label=assay[i],\n",
    "        color=color_order[i],\n",
    "        lw=2,\n",
    "    )\n",
    "\n",
    "\n",
    "plt.xlabel(\"Cells(log)\", fontsize=14)\n",
    "plt.ylabel(f\"Counts\", fontsize=14)\n",
    "plt.xticks(fontsize=12)\n",
    "plt.yticks(fontsize=12)\n",
    "plt.xscale(\"log\")\n",
    "plt.tight_layout()\n",
    "plt.savefig(\"final_figures/qc/counts_cumsum_cell.png\", dpi=300)\n",
    "plt.savefig(\"final_figures/qc/counts_cumsum_cell.svg\", dpi=300)\n",
    "\n",
    "plt.show()"
   ]
  },
  {
   "cell_type": "code",
   "execution_count": null,
   "id": "a7e7fa07-f35f-449f-9c85-241542d55819",
   "metadata": {},
   "outputs": [],
   "source": [
    "counts_meta = []\n",
    "assay = [\n",
    "    \"HIPSD&R-seq (PDX)\",\n",
    "    \"HIPSD&R-seq (LFS041_LFS087_1:1)\",\n",
    "    \"HIPSD-seq (LFS041_62)\",\n",
    "    \"DEFND-seq (LFS041_LFS087_1:1)\",\n",
    "]\n",
    "paths = [\"multiome\", \"multiome_fibroblasts\", \"matac\", \"multiome_fibroblasts_DEFND\"]\n",
    "color_order = [colors[4], colors[1], colors[2], colors[9]]\n",
    "for path in tqdm(paths):\n",
    "    try:\n",
    "        tmp = pd.read_csv(f\"QC/{path}/meta_counts.csv\", index_col=0)\n",
    "    except:\n",
    "        print(path)\n",
    "        tmp = pd.read_csv(f\"QC/{path}/cell_counts.csv\", index_col=0)\n",
    "    counts_meta.append(tmp.sum(axis=1))"
   ]
  },
  {
   "cell_type": "code",
   "execution_count": null,
   "id": "8144cd2e-127c-4647-8eb6-65da3b2df0e2",
   "metadata": {},
   "outputs": [],
   "source": [
    "plt.figure(figsize=(10, 5))\n",
    "for i in range(len(assay)):\n",
    "    plt.plot(\n",
    "        sorted(counts_meta[i], reverse=True),\n",
    "        label=assay[i],\n",
    "        color=color_order[i],\n",
    "        lw=2,\n",
    "    )\n",
    "\n",
    "plt.xlabel(\"(meta)cells: best to worse (log)\", fontsize=14)\n",
    "plt.ylabel(f\"Reads\", fontsize=14)\n",
    "plt.legend(bbox_to_anchor=(1.2, 1), ncol=1)\n",
    "plt.xscale(\"log\")\n",
    "plt.legend().set_visible(False)\n",
    "\n",
    "plt.savefig(\"final_figures/qc/counts_meta.png\", dpi=300)\n",
    "plt.savefig(\"final_figures/qc/counts_meta.svg\", dpi=300)\n",
    "\n",
    "plt.show()"
   ]
  },
  {
   "cell_type": "code",
   "execution_count": null,
   "id": "3c429e22-c94b-42db-848d-ab9fe721dc4c",
   "metadata": {},
   "outputs": [],
   "source": [
    "plt.figure(figsize=(10, 5))\n",
    "for i in range(len(assay)):\n",
    "    plt.plot(\n",
    "        np.cumsum(sorted(counts_meta[i], reverse=True)),\n",
    "        label=assay[i],\n",
    "        color=color_order[i],\n",
    "        lw=2,\n",
    "    )\n",
    "\n",
    "\n",
    "plt.xlabel(\"Metacells (log)\", fontsize=14)\n",
    "plt.ylabel(f\"Cumulative counts\", fontsize=14)\n",
    "plt.xticks(fontsize=12)\n",
    "plt.yticks(fontsize=12)\n",
    "plt.xscale(\"log\")\n",
    "plt.tight_layout()\n",
    "plt.legend().set_visible(False)\n",
    "\n",
    "plt.savefig(\"final_figures/qc/counts_cumsum_meta.png\", dpi=300)\n",
    "plt.savefig(\"final_figures/qc/counts_cumsum_meta.svg\", dpi=300)\n",
    "\n",
    "plt.show()"
   ]
  },
  {
   "cell_type": "markdown",
   "id": "e94d2c3b-704f-4bb3-a4d9-9900cdd9fba2",
   "metadata": {},
   "source": [
    "# Duplication rate"
   ]
  },
  {
   "cell_type": "code",
   "execution_count": null,
   "id": "ba819483-4910-4e8d-8e46-f75a6d0dda20",
   "metadata": {},
   "outputs": [],
   "source": [
    "dr_meta = []\n",
    "assay = [\n",
    "    \"HIPSD&R-seq (PDX)\",\n",
    "    \"HIPSD&R-seq (LFS041_LFS087_1:1)\",\n",
    "    \"HIPSD-seq (LFS041_62)\",\n",
    "    \"DEFND-seq (LFS041_LFS087_1:1)\",\n",
    "]\n",
    "paths = [\"multiome\", \"multiome_fibroblasts\", \"matac\", \"multiome_fibroblasts_DEFND\"]\n",
    "color_order = [colors[4], colors[1], colors[2], colors[9]]\n",
    "for path in paths:\n",
    "    try:\n",
    "        tmp = pd.read_csv(f\"QC/{path}/meta_dup_rate.csv\", index_col=0)\n",
    "    except:\n",
    "        print(path)\n",
    "        tmp = pd.read_csv(f\"QC/{path}/cell_dup_rate.csv\", index_col=0)\n",
    "    print(path, tmp[\"0\"].median())\n",
    "    dr_meta.append(tmp[\"0\"])"
   ]
  },
  {
   "cell_type": "code",
   "execution_count": null,
   "id": "6e816a45-1106-47cd-949b-2d75cc101e71",
   "metadata": {},
   "outputs": [],
   "source": [
    "plt.figure(figsize=(10, 4))\n",
    "for i in range(len(assay)):\n",
    "    plt.plot(\n",
    "        sorted(dr_meta[i], reverse=False), label=assay[i], color=color_order[i], lw=2\n",
    "    )\n",
    "\n",
    "\n",
    "plt.xlabel(\"Cells: best to worse (log)\")\n",
    "plt.ylabel(f\"Duplication rate\")\n",
    "plt.tight_layout()\n",
    "plt.xscale(\"log\")\n",
    "\n",
    "plt.savefig(\"final_figures/qc/dr_meta.png\", dpi=300)\n",
    "plt.savefig(\"final_figures/qc/dr_meta.svg\", dpi=300)\n",
    "\n",
    "plt.show()"
   ]
  },
  {
   "cell_type": "code",
   "execution_count": null,
   "id": "619a6fbc-0914-4b7f-b995-9b87754f91d9",
   "metadata": {},
   "outputs": [],
   "source": [
    "fig = plt.figure(figsize=(10, 5))\n",
    "ax = fig.add_subplot(111)\n",
    "\n",
    "bp = ax.boxplot(dr_meta, patch_artist=True)\n",
    "for patch, color in zip(bp[\"boxes\"], colors):\n",
    "    patch.set_facecolor(\"white\")\n",
    "\n",
    "for whisker in bp[\"whiskers\"]:\n",
    "    whisker.set(color=\"blue\", linewidth=1.5, linestyle=\":\")\n",
    "for median in bp[\"medians\"]:\n",
    "    median.set(color=\"blue\", linewidth=3)\n",
    "\n",
    "ax.set_xticklabels(assay)\n",
    "plt.ylabel(f\"Duplication rate\")\n",
    "plt.xticks(rotation=45)\n",
    "plt.tight_layout()\n",
    "\n",
    "\n",
    "plt.savefig(\"final_figures/qc/boxplot_meta.png\", dpi=300)\n",
    "plt.savefig(\"final_figures/qc/boxplot_meta.svg\", dpi=300)\n",
    "\n",
    "plt.show()"
   ]
  },
  {
   "cell_type": "code",
   "execution_count": 325,
   "id": "f2d22dba-bf33-4813-85ed-9486957124c6",
   "metadata": {},
   "outputs": [],
   "source": [
    "dr_cell = []\n",
    "assay = [\n",
    "    \"HIPSD&R-seq (PDX)\",\n",
    "    \"HIPSD&R-seq (LFS041_LFS087_1:1)\",\n",
    "    \"HIPSD-seq (LFS041_62)\",\n",
    "    \"sciHIPSD-seq (LFS041_LFS087_spikein)\",\n",
    "    \"DEFND-seq (LFS041_LFS087_1:1)\",\n",
    "    \"10x (PDX)\",\n",
    "]\n",
    "paths = [\n",
    "    \"multiome\",\n",
    "    \"multiome_fibroblasts\",\n",
    "    \"matac\",\n",
    "    \"sci_fibroblasts\",\n",
    "    \"multiome_fibroblasts_DEFND\",\n",
    "    \"10x\",\n",
    "]\n",
    "color_order = [colors[4], colors[1], colors[2], colors[7], colors[9], colors[0]]\n",
    "for path in paths:\n",
    "    tmp = pd.read_csv(f\"QC/{path}/cell_dup_rate.csv\", index_col=0)\n",
    "    dr_cell.append(tmp[\"0\"])"
   ]
  },
  {
   "cell_type": "code",
   "execution_count": null,
   "id": "a0511b8b-1f3c-481b-931a-272cb7bc8898",
   "metadata": {},
   "outputs": [],
   "source": [
    "fig = plt.figure(figsize=(10, 5))\n",
    "ax = fig.add_subplot(111)\n",
    "\n",
    "bp = ax.boxplot(dr_cell, patch_artist=True)\n",
    "for patch, color in zip(bp[\"boxes\"], colors):\n",
    "    patch.set_facecolor(\"white\")\n",
    "\n",
    "for whisker in bp[\"whiskers\"]:\n",
    "    whisker.set(color=\"blue\", linewidth=1.5, linestyle=\":\")\n",
    "for median in bp[\"medians\"]:\n",
    "    median.set(color=\"blue\", linewidth=3)\n",
    "\n",
    "ax.set_xticklabels(assay)\n",
    "plt.ylabel(f\"Duplication rate\", fontsize=14)\n",
    "plt.xticks(rotation=45)\n",
    "plt.yticks(fontsize=12)\n",
    "plt.tight_layout()\n",
    "\n",
    "\n",
    "plt.savefig(\"final_figures/qc/boxplot_dup.png\", dpi=300)\n",
    "plt.savefig(\"final_figures/qc/boxplot_dup.svg\", dpi=300)\n",
    "\n",
    "plt.show()"
   ]
  },
  {
   "cell_type": "code",
   "execution_count": null,
   "id": "abf53768-65f6-434d-8380-2c1cbd8d9154",
   "metadata": {},
   "outputs": [],
   "source": [
    "plt.figure(figsize=(10, 4))\n",
    "for i in range(len(assay)):\n",
    "    plt.plot(sorted(dr_cell[i], reverse=False), label=assay[i], color=color_order[i])\n",
    "\n",
    "\n",
    "plt.xlabel(\"Cells: best to worse (log)\")\n",
    "plt.ylabel(f\"Duplication rate\")\n",
    "plt.xscale(\"log\")\n",
    "\n",
    "plt.savefig(\"final_figures/qc/dr_cell.png\", dpi=300)\n",
    "plt.savefig(\"final_figures/qc/dr_cell.svg\", dpi=300)\n",
    "\n",
    "plt.show()"
   ]
  },
  {
   "cell_type": "code",
   "execution_count": null,
   "id": "13938dd7-2e10-4c5f-a4c5-3cdb2811b97a",
   "metadata": {
    "tags": []
   },
   "outputs": [],
   "source": [
    "lorenz_meta = []\n",
    "for path in paths:\n",
    "    try:\n",
    "        tmp = pd.read_csv(f\"QC/{path}/meta_counts.csv\", index_col=0)\n",
    "    except:\n",
    "        print(path)\n",
    "        tmp = pd.read_csv(f\"QC/{path}/cell_counts.csv\", index_col=0)\n",
    "    lorenz_meta.append(lorenz(np.sum(tmp, axis=0)))"
   ]
  },
  {
   "cell_type": "code",
   "execution_count": 50,
   "id": "f36eef03-1324-415d-8596-8cb16541e735",
   "metadata": {},
   "outputs": [],
   "source": [
    "lorenz_meta = []\n",
    "for path in paths:\n",
    "    tmp = pd.read_csv(f\"QC/{path}/cell_counts.csv\", index_col=0)\n",
    "    lorenz_meta.append(lorenz(np.sum(tmp, axis=0)))"
   ]
  },
  {
   "cell_type": "code",
   "execution_count": null,
   "id": "42a3ef3e-66f1-4185-b5d6-9374f9071863",
   "metadata": {},
   "outputs": [],
   "source": [
    "plt.subplots(figsize=(5, 5))\n",
    "for i in range(len(assay)):\n",
    "    unif = lorenz_meta[i]\n",
    "\n",
    "    plt.plot(\n",
    "        np.arange(len(unif)) / (len(unif) - 1),\n",
    "        unif,\n",
    "        label=assay[i],\n",
    "        color=color_order[i],\n",
    "        lw=2,\n",
    "    )\n",
    "\n",
    "\n",
    "plt.plot(\n",
    "    np.arange(len(unif)) / (len(unif) - 1),\n",
    "    np.arange(len(unif)) / len(unif),\n",
    "    label=\"uniform\",\n",
    "    c=\"black\",\n",
    "    ls=\"--\",\n",
    ")\n",
    "\n",
    "\n",
    "plt.xlabel(\"Fraction of genome\")\n",
    "plt.ylabel(\"Fraction of reads\")\n",
    "plt.grid()\n",
    "\n",
    "plt.tight_layout()\n",
    "\n",
    "plt.savefig(\"final_figures/qc/lorenz.png\", dpi=300)\n",
    "plt.savefig(\"final_figures/qc/lorenz.svg\", dpi=300)\n",
    "plt.show()"
   ]
  },
  {
   "cell_type": "markdown",
   "id": "7b5201b5-aa02-453d-a183-817fb883fcee",
   "metadata": {},
   "source": [
    "# Cells per metacells"
   ]
  },
  {
   "cell_type": "code",
   "execution_count": 327,
   "id": "a189e80f-ca25-48ce-bde5-d53770c3ef7d",
   "metadata": {},
   "outputs": [],
   "source": [
    "path_meta = \"aurelie_data/pdx_paired/mc_files/*.txt\"\n",
    "\n",
    "\n",
    "def mc2cell(path_meta):\n",
    "    files = glob.glob(path_meta)\n",
    "    idx = []\n",
    "    mcs = []\n",
    "    for i, file in enumerate(files):\n",
    "        cells = pd.read_csv(file, header=None)[0].tolist()\n",
    "        mcs.append(len([x.split(\"/\")[-1].split(\"_\")[-1].split(\".\")[0] for x in cells]))\n",
    "    return mcs"
   ]
  },
  {
   "cell_type": "code",
   "execution_count": 328,
   "id": "03c8fe38-3a23-45f3-bbb2-f22835c7fa5a",
   "metadata": {},
   "outputs": [],
   "source": [
    "mome_meta = mc2cell(path_meta)"
   ]
  },
  {
   "cell_type": "code",
   "execution_count": 329,
   "id": "1b49c83a-cca6-4208-808f-6692d093449d",
   "metadata": {},
   "outputs": [],
   "source": [
    "matac_meta = mc2cell(\"aurelie_data/LFS041_p63/atac_only/metacells_old/*.txt\")"
   ]
  },
  {
   "cell_type": "code",
   "execution_count": 330,
   "id": "237f5c9e-7b02-4b62-9aaa-811194637391",
   "metadata": {},
   "outputs": [],
   "source": [
    "sci_meta = mc2cell(\"aurelie_data/100k/mc_files/*.txt\")"
   ]
  },
  {
   "cell_type": "code",
   "execution_count": 331,
   "id": "da3ced9f-9fdc-496d-a471-ce5a38dfb1b3",
   "metadata": {},
   "outputs": [],
   "source": [
    "hispdr_meta = mc2cell(\"HIPSDR-seq/metacells_100kb/*.txt\")"
   ]
  },
  {
   "cell_type": "code",
   "execution_count": 332,
   "id": "fd16816c-bd90-4ffb-815d-398bf43fab21",
   "metadata": {},
   "outputs": [],
   "source": [
    "defnd_meta = mc2cell(\"DEFND-seq/metacells/*.txt\")"
   ]
  },
  {
   "cell_type": "code",
   "execution_count": null,
   "id": "bcaa66d4-a96b-43fe-a020-3421765dcce4",
   "metadata": {},
   "outputs": [],
   "source": [
    "fig = plt.figure(figsize=(10, 5))\n",
    "ax = fig.add_subplot(111)\n",
    "\n",
    "bp = ax.boxplot([matac_meta, mome_meta, hispdr_meta, defnd_meta], patch_artist=True)\n",
    "for patch in bp[\"boxes\"]:\n",
    "    patch.set_facecolor(\"white\")\n",
    "\n",
    "for whisker in bp[\"whiskers\"]:\n",
    "    whisker.set(color=\"blue\", linewidth=1.5, linestyle=\":\")\n",
    "for median in bp[\"medians\"]:\n",
    "    median.set(color=\"blue\", linewidth=3)\n",
    "\n",
    "ax.set_xticklabels(\n",
    "    [\n",
    "        \"HIPSD-seq (LFS041_62)\",\n",
    "        \"HIPSD&R-seq (PDX)\",\n",
    "        \"HIPSD&R-seq (LFS041_LFS087_1:1)\",\n",
    "        \"DEFND-seq (LFS041_LFS087_1:1)\",\n",
    "    ]\n",
    ")\n",
    "plt.ylabel(f\"Cells per metacell\", fontsize=14)\n",
    "plt.xticks(rotation=45)\n",
    "plt.tight_layout()\n",
    "\n",
    "\n",
    "plt.savefig(\"final_figures/qc/boxplot_meta_count.png\", dpi=300)\n",
    "plt.savefig(\"final_figures/qc/boxplot_meta_count.svg\", dpi=300)\n",
    "\n",
    "plt.show()"
   ]
  },
  {
   "cell_type": "markdown",
   "id": "db2a78af-35bc-4b62-aee3-a62ee57189b6",
   "metadata": {},
   "source": [
    "## Unfiltered vs. filtered"
   ]
  },
  {
   "cell_type": "code",
   "execution_count": 10,
   "id": "2287e335-1096-4a68-a365-946ede28a25f",
   "metadata": {},
   "outputs": [],
   "source": [
    "bars_hipsdr = sc.read_h5ad(\"HIPSDR-seq/adata_cnv_processed.h5ad\").obs_names"
   ]
  },
  {
   "cell_type": "code",
   "execution_count": null,
   "id": "5784a5f0-ca95-4476-a250-1af539f2b7e6",
   "metadata": {},
   "outputs": [],
   "source": [
    "len(bars_hipsdr)"
   ]
  },
  {
   "cell_type": "code",
   "execution_count": 12,
   "id": "f49f8e57-1b51-472a-8333-c1bceb587239",
   "metadata": {},
   "outputs": [],
   "source": [
    "bars_sci = pd.read_csv(\"sci/CNVs_sci_filtered.csv\", index_col=0).index"
   ]
  },
  {
   "cell_type": "code",
   "execution_count": null,
   "id": "b2c9aca2-178c-4b4a-b957-ec09c374f4ce",
   "metadata": {},
   "outputs": [],
   "source": [
    "len(bars_sci)"
   ]
  },
  {
   "cell_type": "code",
   "execution_count": 14,
   "id": "44453c8e-b0f5-409c-9a47-093f7752557c",
   "metadata": {},
   "outputs": [],
   "source": [
    "bars_defnd = pd.read_csv(\"DEFND-seq/CNVs_filtered.csv\", index_col=0).index"
   ]
  },
  {
   "cell_type": "code",
   "execution_count": null,
   "id": "687a42ab-38e3-452e-82a6-bffc7a64867e",
   "metadata": {},
   "outputs": [],
   "source": [
    "len(bars_defnd)"
   ]
  },
  {
   "cell_type": "code",
   "execution_count": 341,
   "id": "67b0764f-f61d-48b4-8abc-f646080403ed",
   "metadata": {},
   "outputs": [],
   "source": [
    "assay = [\n",
    "    \"HIPSD&R-seq (PDX)\",\n",
    "    \"HIPSD&R-seq (LFS041_LFS087_1:1)\",\n",
    "    \"HIPSD-seq (LFS041_62)\",\n",
    "    \"sciHIPSD-seq (LFS041_LFS087_spikein)\",\n",
    "    \"DEFND-seq (LFS041_LFS087_1:1)\",\n",
    "    \"10x (PDX)\",\n",
    "]\n",
    "paths = [\n",
    "    \"multiome\",\n",
    "    \"multiome_fibroblasts\",\n",
    "    \"matac\",\n",
    "    \"sci_fibroblasts\",\n",
    "    \"multiome_fibroblasts_DEFND\",\n",
    "    \"10x\",\n",
    "]\n",
    "color_order = [colors[4], colors[1], colors[2], colors[7], colors[9], colors[0]]"
   ]
  },
  {
   "cell_type": "code",
   "execution_count": 342,
   "id": "e944dc19-e40f-4c05-85a5-f2e91d676ff1",
   "metadata": {},
   "outputs": [],
   "source": [
    "coverage_cell = []\n",
    "assay = [\n",
    "    \"HIPSD&R-seq (LFS041_LFS087_1:1)\",\n",
    "    \"HIPSD&R-seq (LFS041_LFS087_1:1) - filtered\",\n",
    "    \"sciHIPSD-seq (LFS041_LFS087_spikein)\",\n",
    "    \"sciHIPSD-seq (LFS041_LFS087_spikein) - filtered\",\n",
    "    \"DEFND-seq (LFS041_LFS087_1:1)\",\n",
    "    \"DEFND-seq (LFS041_LFS087_1:1) - filtered\",\n",
    "]\n",
    "paths = [\"multiome_fibroblasts\", \"sci_fibroblasts\", \"multiome_fibroblasts_DEFND\"]\n",
    "color_order = [colors[1], colors[7], colors[9]]\n",
    "for path in paths:\n",
    "    tmp = pd.read_csv(f\"QC/{path}/cell_coverage.csv\", index_col=0)\n",
    "    coverage_cell.append(tmp[\"0\"].dropna())\n",
    "    if path == \"multiome_fibroblasts\":\n",
    "        coverage_cell.append(tmp.loc[bars_hipsdr][\"0\"].dropna())\n",
    "    elif path == \"sci_fibroblasts\":\n",
    "        coverage_cell.append(tmp.loc[bars_sci][\"0\"].dropna())\n",
    "    elif path == \"multiome_fibroblasts_DEFND\":\n",
    "        coverage_cell.append(tmp.loc[bars_defnd][\"0\"].dropna())"
   ]
  },
  {
   "cell_type": "code",
   "execution_count": null,
   "id": "5ba41895-9dc6-4c2d-9b83-05855dbd8458",
   "metadata": {},
   "outputs": [],
   "source": [
    "plt.figure(figsize=(10, 5))\n",
    "for i in range(len(assay)):\n",
    "    if i % 2 == 0:\n",
    "        plt.plot(\n",
    "            sorted(coverage_cell[i], reverse=True),\n",
    "            label=assay[i],\n",
    "            color=color_order[i // 2],\n",
    "            lw=1,\n",
    "        )\n",
    "    else:\n",
    "        plt.plot(\n",
    "            sorted(coverage_cell[i], reverse=True),\n",
    "            label=assay[i],\n",
    "            color=color_order[i // 2],\n",
    "            lw=2,\n",
    "            linestyle=\"dashed\",\n",
    "        )\n",
    "\n",
    "\n",
    "plt.xlabel(\"Cells: best to worse (log)\", fontsize=14)\n",
    "plt.ylabel(f\"Coverage(X)\", fontsize=14)\n",
    "plt.xticks(fontsize=12)\n",
    "plt.yticks(fontsize=12)\n",
    "plt.legend(fontsize=14)\n",
    "plt.tight_layout()\n",
    "plt.xscale(\"log\")\n",
    "\n",
    "plt.savefig(\"final_figures/qc/coverage_cell_filtered.png\", dpi=300)\n",
    "plt.savefig(\"final_figures/qc/coverage_cell_filtered.svg\", dpi=300)\n",
    "\n",
    "plt.show()"
   ]
  },
  {
   "cell_type": "markdown",
   "id": "6530b259-556d-4265-850c-175779633e3c",
   "metadata": {},
   "source": [
    "# Counts"
   ]
  },
  {
   "cell_type": "code",
   "execution_count": null,
   "id": "937486f0-0435-469a-afd3-e16e4d44b523",
   "metadata": {},
   "outputs": [],
   "source": [
    "counts_cell = []\n",
    "assay = [\n",
    "    \"HIPSD&R-seq (LFS041_LFS087_1:1)\",\n",
    "    \"HIPSD&R-seq (LFS041_LFS087_1:1) - filtered\",\n",
    "    \"sciHIPSD-seq (LFS041_LFS087_spikein)\",\n",
    "    \"sciHIPSD-seq (LFS041_LFS087_spikein) - filtered\",\n",
    "    \"DEFND-seq (LFS041_LFS087_1:1)\",\n",
    "    \"DEFND-seq (LFS041_LFS087_1:1) - filtered\",\n",
    "]\n",
    "paths = [\"multiome_fibroblasts\", \"sci_fibroblasts\", \"multiome_fibroblasts_DEFND\"]\n",
    "color_order = [colors[1], colors[7], colors[9]]\n",
    "for path in tqdm(paths):\n",
    "    tmp = pd.read_csv(f\"QC/{path}/cell_counts.csv\", index_col=0)\n",
    "    counts_cell.append(tmp.sum(axis=1))\n",
    "    if path == \"multiome_fibroblasts\":\n",
    "        counts_cell.append(tmp.loc[bars_hipsdr].sum(axis=1))\n",
    "    elif path == \"sci_fibroblasts\":\n",
    "        counts_cell.append(tmp.loc[bars_sci].sum(axis=1))\n",
    "    elif path == \"multiome_fibroblasts_DEFND\":\n",
    "        counts_cell.append(tmp.loc[bars_defnd].sum(axis=1))"
   ]
  },
  {
   "cell_type": "code",
   "execution_count": null,
   "id": "c8c75663-0160-4a28-abd4-3851f824c4bb",
   "metadata": {},
   "outputs": [],
   "source": [
    "plt.figure(figsize=(10, 5))\n",
    "for i in range(len(assay)):\n",
    "    if i % 2 == 0:\n",
    "        plt.plot(\n",
    "            sorted(counts_cell[i], reverse=True),\n",
    "            label=assay[i],\n",
    "            color=color_order[i // 2],\n",
    "            lw=1,\n",
    "        )\n",
    "    else:\n",
    "        plt.plot(\n",
    "            sorted(counts_cell[i], reverse=True),\n",
    "            label=assay[i],\n",
    "            color=color_order[i // 2],\n",
    "            lw=2,\n",
    "            linestyle=\"dashed\",\n",
    "        )\n",
    "\n",
    "\n",
    "plt.xlabel(\"Cells: best to worse (log)\", fontsize=14)\n",
    "plt.ylabel(f\"Reads\", fontsize=14)\n",
    "plt.legend(fontsize=14)\n",
    "plt.xscale(\"log\")\n",
    "\n",
    "plt.show()"
   ]
  },
  {
   "cell_type": "code",
   "execution_count": null,
   "id": "a44b8388-6a4a-4281-8cf3-67af889dcfa9",
   "metadata": {},
   "outputs": [],
   "source": [
    "plt.figure(figsize=(10, 5))\n",
    "for i in range(len(assay)):\n",
    "    if i % 2 == 0:\n",
    "        plt.plot(\n",
    "            np.cumsum(sorted(counts_cell[i], reverse=True)),\n",
    "            label=assay[i],\n",
    "            color=color_order[i // 2],\n",
    "            lw=1,\n",
    "        )\n",
    "    else:\n",
    "        plt.plot(\n",
    "            np.cumsum(sorted(counts_cell[i], reverse=True)),\n",
    "            label=assay[i],\n",
    "            color=color_order[i // 2],\n",
    "            lw=2,\n",
    "            linestyle=\"dashed\",\n",
    "        )\n",
    "\n",
    "\n",
    "plt.xlabel(\"Cells(log)\", fontsize=14)\n",
    "plt.ylabel(f\"Counts\", fontsize=14)\n",
    "plt.xticks(fontsize=12)\n",
    "plt.yticks(fontsize=12)\n",
    "plt.xscale(\"log\")\n",
    "plt.tight_layout()\n",
    "plt.savefig(\"final_figures/qc/counts_cumsum_cell_filtered.png\", dpi=300)\n",
    "plt.savefig(\"final_figures/qc/counts_cumsum_cell_filtered.svg\", dpi=300)\n",
    "\n",
    "plt.show()"
   ]
  },
  {
   "cell_type": "markdown",
   "id": "49ce9373-4aac-47b4-a037-c591f77c69b4",
   "metadata": {},
   "source": [
    "## Lorenz curve"
   ]
  },
  {
   "cell_type": "code",
   "execution_count": 3,
   "id": "f48ec5e6-1f28-4deb-aad6-f3947bdb9b59",
   "metadata": {},
   "outputs": [],
   "source": [
    "def lorenz(arr):\n",
    "    # this divides the prefix sum by the total sum\n",
    "    # this ensures all the values are between 0 and 1.0\n",
    "    arr = np.sort(arr)\n",
    "    scaled_prefix_sum = arr.cumsum() / arr.sum()\n",
    "    # this prepends the 0 value (because 0% of all people have 0% of all wealth)\n",
    "    return np.insert(scaled_prefix_sum, 0, 0)"
   ]
  },
  {
   "cell_type": "code",
   "execution_count": 4,
   "id": "1db989e4-f286-49e7-8faa-2b20f36daf38",
   "metadata": {},
   "outputs": [],
   "source": [
    "hipsdr = pd.read_csv(\"HIPSDR-seq/full_counts.csv\", index_col=0)\n",
    "defnd = pd.read_csv(\"DEFND-seq/full_counts.csv\", index_col=0)\n",
    "sci = pd.read_csv(\"sci/full_counts.csv\", index_col=0)"
   ]
  },
  {
   "cell_type": "code",
   "execution_count": 6,
   "id": "1d1bf440-e792-4bf2-84af-95efbe8203fd",
   "metadata": {},
   "outputs": [],
   "source": [
    "paths = [\"multiome_fibroblasts\", \"sci_fibroblasts\", \"multiome_fibroblasts_DEFND\"]"
   ]
  },
  {
   "cell_type": "code",
   "execution_count": 16,
   "id": "545cc9e2-f904-4042-ae8a-4c062e633ac6",
   "metadata": {
    "tags": []
   },
   "outputs": [],
   "source": [
    "lorenz_meta = []\n",
    "for df, path in zip([hipsdr, sci, defnd], paths):\n",
    "    lorenz_matac = df.apply(lambda row: lorenz(row), axis=1).values\n",
    "    lorenz_matac_2d = np.array([np.array(x) for x in lorenz_matac])\n",
    "    lorenz_meta.append(np.nanmedian(lorenz_matac_2d, axis=0))\n",
    "    if path == \"multiome_fibroblasts\":\n",
    "        lorenz_matac = df.loc[bars_hipsdr].apply(lambda row: lorenz(row), axis=1).values\n",
    "        lorenz_matac_2d = np.array([np.array(x) for x in lorenz_matac])\n",
    "        lorenz_meta.append((np.nanmedian(lorenz_matac_2d, axis=0)))\n",
    "    elif path == \"sci_fibroblasts\":\n",
    "        lorenz_matac = df.loc[bars_sci].apply(lambda row: lorenz(row), axis=1).values\n",
    "        lorenz_matac_2d = np.array([np.array(x) for x in lorenz_matac])\n",
    "        lorenz_meta.append((np.nanmedian(lorenz_matac_2d, axis=0)))\n",
    "    elif path == \"multiome_fibroblasts_DEFND\":\n",
    "        lorenz_matac = df.loc[bars_defnd].apply(lambda row: lorenz(row), axis=1).values\n",
    "        lorenz_matac_2d = np.array([np.array(x) for x in lorenz_matac])\n",
    "        lorenz_meta.append((np.nanmedian(lorenz_matac_2d, axis=0)))"
   ]
  },
  {
   "cell_type": "code",
   "execution_count": 17,
   "id": "617937e8-7136-46e5-851a-f41e31b90a1f",
   "metadata": {},
   "outputs": [],
   "source": [
    "assay = [\n",
    "    \"HIPSD&R-seq (LFS041_LFS087_1:1)\",\n",
    "    \"HIPSD&R-seq (LFS041_LFS087_1:1) - filtered\",\n",
    "    \"sciHIPSD-seq (LFS041_LFS087_spikein)\",\n",
    "    \"sciHIPSD-seq (LFS041_LFS087_spikein) - filtered\",\n",
    "    \"DEFND-seq (LFS041_LFS087_1:1)\",\n",
    "    \"DEFND-seq (LFS041_LFS087_1:1) - filtered\",\n",
    "]"
   ]
  },
  {
   "cell_type": "code",
   "execution_count": null,
   "id": "23cb4b70-43c1-41c4-83a2-bd421ce4b97a",
   "metadata": {},
   "outputs": [],
   "source": [
    "plt.subplots(figsize=(6, 8))\n",
    "for i in range(len(assay)):\n",
    "    unif = lorenz_meta[i]\n",
    "    if i % 2 == 0:\n",
    "        plt.plot(\n",
    "            np.arange(len(unif)) / (len(unif) - 1),\n",
    "            unif,\n",
    "            label=assay[i],\n",
    "            color=color_order[i // 2],\n",
    "            lw=2,\n",
    "        )\n",
    "    else:\n",
    "        plt.plot(\n",
    "            np.arange(len(unif)) / (len(unif) - 1),\n",
    "            unif,\n",
    "            label=assay[i],\n",
    "            color=color_order[i // 2],\n",
    "            lw=2,\n",
    "            linestyle=\"dashed\",\n",
    "        )\n",
    "\n",
    "\n",
    "plt.plot(\n",
    "    np.arange(len(unif)) / (len(unif) - 1),\n",
    "    np.arange(len(unif)) / len(unif),\n",
    "    label=\"uniform\",\n",
    "    c=\"black\",\n",
    "    ls=\"--\",\n",
    ")\n",
    "\n",
    "\n",
    "plt.xlabel(\"Fraction of genome\", fontsize=14)\n",
    "plt.ylabel(\"Fraction of reads\", fontsize=14)\n",
    "plt.xticks(fontsize=12)\n",
    "plt.yticks(fontsize=12)\n",
    "plt.grid()\n",
    "\n",
    "plt.legend(fontsize=14, loc=\"upper center\", bbox_to_anchor=(0.5, -0.2))\n",
    "plt.tight_layout()\n",
    "\n",
    "plt.savefig(\"final_figures/qc/lorenz.png\", dpi=300, bbox_inches=\"tight\")\n",
    "plt.savefig(\"final_figures/qc/lorenz.svg\", dpi=300, bbox_inches=\"tight\")\n",
    "plt.show()"
   ]
  },
  {
   "cell_type": "markdown",
   "id": "8b495ec6-99e6-435f-888d-538018f08f6d",
   "metadata": {},
   "source": [
    "## RNA comparison"
   ]
  },
  {
   "cell_type": "markdown",
   "id": "aba2fe1e",
   "metadata": {},
   "source": [
    "# CNV kit"
   ]
  },
  {
   "cell_type": "code",
   "execution_count": null,
   "id": "dba04ccd",
   "metadata": {},
   "outputs": [],
   "source": [
    "adata_cnv = sc.read_h5ad(\"aurelie_data/pdx_10x_old/rna_seurat_raw.h5ad\")"
   ]
  },
  {
   "cell_type": "code",
   "execution_count": null,
   "id": "ef7c7aba",
   "metadata": {},
   "outputs": [],
   "source": [
    "adata_cnv.var_names_make_unique()\n",
    "sc.pp.calculate_qc_metrics(adata_cnv, inplace=True)\n",
    "sc.pl.scatter(\n",
    "    adata_cnv,\n",
    "    x=\"total_counts\",\n",
    "    y=\"n_genes_by_counts\",\n",
    "    size=100,\n",
    ")"
   ]
  },
  {
   "cell_type": "markdown",
   "id": "2a8b5b09",
   "metadata": {},
   "source": [
    "# multiome"
   ]
  },
  {
   "cell_type": "code",
   "execution_count": null,
   "id": "a21f1cbd",
   "metadata": {},
   "outputs": [],
   "source": [
    "adata_multiome = sc.read_10x_h5(\n",
    "    \"aurelie_data/pdx_paired/rna_cellranger/outs/filtered_feature_bc_matrix.h5\"\n",
    ")"
   ]
  },
  {
   "cell_type": "code",
   "execution_count": null,
   "id": "904f410e",
   "metadata": {},
   "outputs": [],
   "source": [
    "adata_multiome.var_names_make_unique()\n",
    "sc.pp.calculate_qc_metrics(adata_multiome, inplace=True)\n",
    "sc.pl.scatter(\n",
    "    adata_multiome,\n",
    "    x=\"total_counts\",\n",
    "    y=\"n_genes_by_counts\",\n",
    "    size=100,\n",
    ")"
   ]
  },
  {
   "cell_type": "markdown",
   "id": "6a9604de",
   "metadata": {},
   "source": [
    "# all together"
   ]
  },
  {
   "cell_type": "code",
   "execution_count": null,
   "id": "2efbf6ad",
   "metadata": {},
   "outputs": [],
   "source": [
    "colors = sns.color_palette(\"colorblind\", 10)"
   ]
  },
  {
   "cell_type": "code",
   "execution_count": null,
   "id": "d9c4d7c7",
   "metadata": {},
   "outputs": [],
   "source": [
    "fig, ax = plt.subplots(figsize=(5, 5))\n",
    "\n",
    "x = np.asarray(adata_multiome.X.sum(axis=1))\n",
    "y = np.asarray(np.sum(adata_multiome.X > 0, axis=1))\n",
    "\n",
    "ax.scatter(x, y, color=colors[4], alpha=0.3, label=\"HIPSD&R-seq (PDX)\")\n",
    "\n",
    "x = np.asarray(adata_cnv.X.sum(axis=1))\n",
    "y = np.asarray(np.sum(adata_cnv.X > 0, axis=1))\n",
    "\n",
    "ax.scatter(x, y, color=colors[0], alpha=0.3, label=\"10x (PDX)\")\n",
    "\n",
    "\n",
    "ax.set_xlabel(\"UMI Counts\", fontsize=14)\n",
    "ax.set_ylabel(\"Genes Detected\", fontsize=14)\n",
    "ax.set_xscale(\"log\")\n",
    "ax.set_yscale(\"log\")\n",
    "\n",
    "plt.tight_layout()\n",
    "plt.xticks(fontsize=12)\n",
    "plt.yticks(fontsize=12)\n",
    "plt.legend(fontsize=14, loc=\"upper center\", bbox_to_anchor=(0.5, -0.2))\n",
    "plt.savefig(\"final_figures/qc/rna_qc.png\", dpi=300, bbox_inches=\"tight\")\n",
    "plt.savefig(\"final_figures/qc/rna_qc.svg\", dpi=300, bbox_inches=\"tight\")\n",
    "plt.show()"
   ]
  }
 ],
 "metadata": {
  "kernelspec": {
   "display_name": "HIPSD",
   "language": "python",
   "name": "python3"
  },
  "language_info": {
   "codemirror_mode": {
    "name": "ipython",
    "version": 3
   },
   "file_extension": ".py",
   "mimetype": "text/x-python",
   "name": "python",
   "nbconvert_exporter": "python",
   "pygments_lexer": "ipython3",
   "version": "3.10.13"
  }
 },
 "nbformat": 4,
 "nbformat_minor": 5
}
