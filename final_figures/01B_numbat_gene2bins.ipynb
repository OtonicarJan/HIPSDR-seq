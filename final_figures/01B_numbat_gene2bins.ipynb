{
 "cells": [
  {
   "cell_type": "code",
   "execution_count": 1,
   "id": "b525b3e2-b5be-40aa-9a25-76901a0c9245",
   "metadata": {},
   "outputs": [],
   "source": [
    "import pandas as pd\n",
    "from natsort import natsort_keygen, natsorted\n",
    "from tqdm import tqdm"
   ]
  },
  {
   "cell_type": "code",
   "execution_count": 2,
   "id": "c2ac0765",
   "metadata": {},
   "outputs": [],
   "source": [
    "def assign_bins(chromosome, start, end, gene, binsize):\n",
    "    bins = []\n",
    "    for pos in range(start, end, binsize):\n",
    "        bin_start = ((pos // binsize) * binsize) + 1\n",
    "        bin_end = bin_start + binsize\n",
    "        bins.append((f\"{chromosome}:{bin_start}-{bin_end}\", gene))\n",
    "    return bins"
   ]
  },
  {
   "cell_type": "code",
   "execution_count": 3,
   "id": "ec98f6f6",
   "metadata": {},
   "outputs": [],
   "source": [
    "def prepare_annotations(gene_pos, binsize):\n",
    "    binned_data = []\n",
    "    for _, row in tqdm(gene_pos.iterrows()):\n",
    "        gene = row[\"gene\"]\n",
    "        chromosome = row[\"chrom\"]\n",
    "        start = row[\"start\"]\n",
    "        end = row[\"end\"]\n",
    "        binned_data.extend(\n",
    "            assign_bins(chromosome, start, end, gene, binsize=binsize * 1000)\n",
    "        )\n",
    "    binned_df = pd.DataFrame(binned_data, columns=[\"bin\", \"gene_name\"])\n",
    "\n",
    "    return binned_df"
   ]
  },
  {
   "cell_type": "code",
   "execution_count": 4,
   "id": "1e308810-c2aa-466e-b394-e15dcd1e4639",
   "metadata": {},
   "outputs": [],
   "source": [
    "def gene2bin(scrna_mtx, gene_pos):\n",
    "\n",
    "    gene_pos_f = gene_pos[gene_pos.gene_name.isin(scrna_mtx.columns)]\n",
    "    gene_pos_f = gene_pos_f.sort_values(by=\"bin\", key=natsort_keygen(), ascending=True)\n",
    "    scrna = scrna_mtx[gene_pos_f.gene_name]\n",
    "    gene_to_bin = gene_pos_f.set_index(\"gene_name\")[\"bin\"]\n",
    "    expression_with_bins = scrna.T\n",
    "    expression_with_bins[\"bin\"] = gene_to_bin\n",
    "    avg_expression_per_bin = expression_with_bins.groupby(\"bin\").mean().T\n",
    "    avg_expression_per_bin = avg_expression_per_bin[\n",
    "        natsorted(avg_expression_per_bin.columns)\n",
    "    ]\n",
    "\n",
    "    return avg_expression_per_bin"
   ]
  },
  {
   "cell_type": "code",
   "execution_count": 5,
   "id": "17d5b615-c201-4b44-b2c3-2732a4979d52",
   "metadata": {},
   "outputs": [],
   "source": [
    "scrna_original = pd.read_csv(\n",
    "    \"../data/numbat_smoothed_expressions.tsv.gz\", sep=\"\\t\", index_col=0\n",
    ")"
   ]
  },
  {
   "cell_type": "code",
   "execution_count": 6,
   "id": "6206b9ed-c3cd-417c-96b7-667fcef00264",
   "metadata": {},
   "outputs": [],
   "source": [
    "gene_pos = pd.read_csv(\"../data/hg38_gene_locations.csv.gz\", index_col=0)"
   ]
  },
  {
   "cell_type": "code",
   "execution_count": 7,
   "id": "9be93e0e",
   "metadata": {},
   "outputs": [
    {
     "name": "stdout",
     "output_type": "stream",
     "text": [
      "Working on bin 1000\n"
     ]
    },
    {
     "name": "stderr",
     "output_type": "stream",
     "text": [
      "58521it [00:01, 55375.51it/s]\n"
     ]
    },
    {
     "name": "stdout",
     "output_type": "stream",
     "text": [
      "Working on bin 500\n"
     ]
    },
    {
     "name": "stderr",
     "output_type": "stream",
     "text": [
      "58521it [00:01, 56235.59it/s]\n"
     ]
    },
    {
     "name": "stdout",
     "output_type": "stream",
     "text": [
      "Working on bin 100\n"
     ]
    },
    {
     "name": "stderr",
     "output_type": "stream",
     "text": [
      "58521it [00:01, 56834.99it/s]\n"
     ]
    },
    {
     "name": "stdout",
     "output_type": "stream",
     "text": [
      "Working on bin 50\n"
     ]
    },
    {
     "name": "stderr",
     "output_type": "stream",
     "text": [
      "58521it [00:01, 53467.48it/s]\n"
     ]
    },
    {
     "name": "stdout",
     "output_type": "stream",
     "text": [
      "Working on bin 10\n"
     ]
    },
    {
     "name": "stderr",
     "output_type": "stream",
     "text": [
      "58521it [00:01, 52649.90it/s]\n"
     ]
    }
   ],
   "source": [
    "for bins in [1000, 500, 100, 50, 10]:\n",
    "    print(f\"Working on bin {bins}\")\n",
    "    gene_pos_bins = prepare_annotations(gene_pos, binsize=bins)\n",
    "    g2b = gene2bin(scrna_original, gene_pos_bins)\n",
    "    g2b.to_csv(f\"../data/numbat_rna_windows_{bins}.csv.gz\")"
   ]
  }
 ],
 "metadata": {
  "kernelspec": {
   "display_name": "HIPSD",
   "language": "python",
   "name": "python3"
  },
  "language_info": {
   "codemirror_mode": {
    "name": "ipython",
    "version": 3
   },
   "file_extension": ".py",
   "mimetype": "text/x-python",
   "name": "python",
   "nbconvert_exporter": "python",
   "pygments_lexer": "ipython3",
   "version": "3.10.13"
  }
 },
 "nbformat": 4,
 "nbformat_minor": 5
}
